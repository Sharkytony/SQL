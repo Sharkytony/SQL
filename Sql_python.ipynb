{
 "cells": [
  {
   "cell_type": "markdown",
   "id": "df678c7b",
   "metadata": {},
   "source": [
    "## DBMS Using SQL"
   ]
  },
  {
   "cell_type": "code",
   "execution_count": 1,
   "id": "8b177552",
   "metadata": {},
   "outputs": [],
   "source": [
    "# istalling the libraries\n",
    "# !pip install mysql\n",
    "# !pip install --upgrade mysql-connector-python\n",
    "# !pip install python-dotenv\n",
    "import mysql\n",
    "import os\n",
    "from dotenv import load_dotenv"
   ]
  },
  {
   "cell_type": "code",
   "execution_count": 2,
   "id": "f951e81f",
   "metadata": {},
   "outputs": [
    {
     "name": "stdout",
     "output_type": "stream",
     "text": [
      "24.0\n"
     ]
    }
   ],
   "source": [
    "import pip \n",
    "print(pip.__version__)"
   ]
  },
  {
   "cell_type": "code",
   "execution_count": 3,
   "id": "35a90ffb",
   "metadata": {},
   "outputs": [],
   "source": [
    "load_dotenv()\n",
    "host = os.getenv('host_n')\n",
    "password = os.getenv('password')\n",
    "user = os.getenv('user')"
   ]
  },
  {
   "cell_type": "code",
   "execution_count": 4,
   "id": "fc157d0b",
   "metadata": {},
   "outputs": [],
   "source": [
    "import mysql.connector\n",
    "from mysql.connector import Error \n",
    "import pandas as pd"
   ]
  },
  {
   "cell_type": "code",
   "execution_count": 5,
   "id": "2947f753",
   "metadata": {},
   "outputs": [],
   "source": [
    "def create_server_and_database_connection(host_n, user_n, password, db_name):\n",
    "    connection = None\n",
    "    try:\n",
    "        connection = mysql.connector.connect(host=host_n, user=user_n, passwd=password)#creating server connection\n",
    "        cursor = connection.cursor()\n",
    "        cursor.execute('USE {}'.format(db_name))#creating database connection\n",
    "    except Error as err:\n",
    "        print('Error:', err)\n",
    "    return connection"
   ]
  },
  {
   "cell_type": "code",
   "execution_count": 6,
   "id": "f0776cd5",
   "metadata": {},
   "outputs": [],
   "source": [
    "def execute_query(query):\n",
    "    connection = create_server_and_database_connection(host, user, password, 'mysql_python') \n",
    "    try:\n",
    "        cursor = connection.cursor()\n",
    "        cursor.execute(query)\n",
    "        connection.commit()\n",
    "        print('Query executed successfully')\n",
    "    except Error as err:\n",
    "        print('Error:', err)"
   ]
  },
  {
   "cell_type": "code",
   "execution_count": 7,
   "id": "ca78a2ad",
   "metadata": {},
   "outputs": [],
   "source": [
    "def return_result(query, multi=True):\n",
    "    result = None\n",
    "    connection = create_server_and_database_connection(host, user, password, 'mysql_python') \n",
    "    try:\n",
    "        cursor = connection.cursor()\n",
    "        cursor.execute(query)\n",
    "        result = cursor.fetchall()\n",
    "        return result\n",
    "    except Error as err:\n",
    "        print('Error:', err)"
   ]
  },
  {
   "cell_type": "markdown",
   "id": "e11000b1",
   "metadata": {},
   "source": [
    "## Viewing all databases"
   ]
  },
  {
   "cell_type": "code",
   "execution_count": 8,
   "id": "0b6e614f",
   "metadata": {
    "scrolled": false
   },
   "outputs": [
    {
     "data": {
      "text/plain": [
       "[('information_schema',),\n",
       " ('mysql',),\n",
       " ('mysql_python',),\n",
       " ('performance_schema',),\n",
       " ('sys',)]"
      ]
     },
     "execution_count": 8,
     "metadata": {},
     "output_type": "execute_result"
    }
   ],
   "source": [
    "return_result('show databases;')# show databases/tables"
   ]
  },
  {
   "cell_type": "markdown",
   "id": "16b61af7",
   "metadata": {},
   "source": [
    "## Viewing all tables"
   ]
  },
  {
   "cell_type": "code",
   "execution_count": 8,
   "id": "e4ad074c",
   "metadata": {
    "scrolled": true
   },
   "outputs": [
    {
     "data": {
      "text/plain": [
       "[('emp2',),\n",
       " ('employee',),\n",
       " ('employee_details',),\n",
       " ('employee_work',),\n",
       " ('entries',),\n",
       " ('position_',),\n",
       " ('records',),\n",
       " ('work_details',)]"
      ]
     },
     "execution_count": 8,
     "metadata": {},
     "output_type": "execute_result"
    }
   ],
   "source": [
    "return_result('show tables;')"
   ]
  },
  {
   "cell_type": "markdown",
   "id": "2371db6e",
   "metadata": {},
   "source": [
    "## Dropping/Deleting a Table"
   ]
  },
  {
   "cell_type": "code",
   "execution_count": 9,
   "id": "94bc5598",
   "metadata": {
    "scrolled": true
   },
   "outputs": [
    {
     "name": "stdout",
     "output_type": "stream",
     "text": [
      "Query executed successfully\n"
     ]
    }
   ],
   "source": [
    "execute_query( 'drop table if exists employee_work;')"
   ]
  },
  {
   "cell_type": "markdown",
   "id": "0257f6d3",
   "metadata": {},
   "source": [
    "## Creating a Table using constraints"
   ]
  },
  {
   "cell_type": "markdown",
   "id": "5bea591c",
   "metadata": {},
   "source": [
    "### Constraints in Sql\n",
    "1) <b>Not null</b> - Ensures column cannot have any null values<br>\n",
    "2) <b>unique</b> - Ensures all values in a column are different.<br>\n",
    "3) <b>primary key</b> - a combination of <b>Not null</b> and <b>unique</b> . Uniquely identifies each row in a table;<br>\n",
    "4) <b>foreign key</b> - Precents actions that would create links between tables(primary key for other tables of merging is also not null-unique combination)<br>\n",
    "5) <b>check</b> - Ensures that the values in a colummn satisfies a specific condition<br>\n",
    "6) <b>default</b> - Sets a default value for a column if no value is specified<br>\n",
    "7) <b>create index</b> - Used to create an index on one or more columns of a database table to improve the retrieval speed of data.<br>\n",
    "\n",
    "### Datatypes in Sql (Important)\n",
    "1) <b>int</b> - contains integers (not fractional)<br>\n",
    "2) <b>float</b>- contains fractional numbers<br>\n",
    "3) <b>varchar</b> - a string (can contains  0 to 65535 characters)<br>\n",
    "4) <b>char</b>- a string (can contain 1 to 255 characters only)<br>\n",
    "5) <b>date</b>- a date format(YYYY-MM-DD)<br>\n",
    "6) <b>year</b>- a year in four digit format<br>"
   ]
  },
  {
   "cell_type": "code",
   "execution_count": 10,
   "id": "fcb11625",
   "metadata": {},
   "outputs": [
    {
     "name": "stdout",
     "output_type": "stream",
     "text": [
      "Query executed successfully\n",
      "Query executed successfully\n"
     ]
    }
   ],
   "source": [
    "execute_query( 'drop table if exists employee_details;')\n",
    "\n",
    "tab1 = '''create table employee_details(\n",
    "EmployeeId int primary key not null auto_increment, \n",
    "Name varchar(20),\n",
    "D_O_J date unique ,\n",
    "Age int,\n",
    "Gender char(4) ,\n",
    "Department varchar(20),\n",
    "Experience float,\n",
    "Salary float,\n",
    "City varchar(20));'''\n",
    "\n",
    "execute_query( tab1)"
   ]
  },
  {
   "cell_type": "code",
   "execution_count": 11,
   "id": "b01809e6",
   "metadata": {},
   "outputs": [
    {
     "data": {
      "text/plain": [
       "[('emp2',),\n",
       " ('employee',),\n",
       " ('employee_details',),\n",
       " ('entries',),\n",
       " ('position_',),\n",
       " ('records',),\n",
       " ('work_details',)]"
      ]
     },
     "execution_count": 11,
     "metadata": {},
     "output_type": "execute_result"
    }
   ],
   "source": [
    "return_result( 'show tables;')"
   ]
  },
  {
   "cell_type": "markdown",
   "id": "5ad6cc4b",
   "metadata": {},
   "source": [
    "## Inserting records into fields of a table"
   ]
  },
  {
   "cell_type": "code",
   "execution_count": 12,
   "id": "88c86569",
   "metadata": {},
   "outputs": [
    {
     "name": "stdout",
     "output_type": "stream",
     "text": [
      "Query executed successfully\n"
     ]
    }
   ],
   "source": [
    "insert_tab1 = '''insert into employee_details(Name, D_O_J,  Age, Gender, Department, Experience, Salary, City)\n",
    "values('Anthony Rodrigues','2006-02-08','17','M','AI','8','200000','BOSTON'),\n",
    "('Mark Rodrigues','2004-01-26','19','M','CS','8','179000','BOSTON'),\n",
    "('Leslie Rodrigues','2004-08-29','21','M','CS','7','170000','BOSTON'),\n",
    "('Caleb Rodrigues','2013-12-28','10','M','CS','3','130000','OHIO'),\n",
    "('Valencio Rodrigues','2001-04-12','22','M','B','5','205000','BOSTON'),\n",
    "('Vanessa Rodrigues','2000-01-27','23','F','FD','4','120000','WASHINGTON'),\n",
    "('Sharon Mascarenhas','2004-08-03','19','F','CS','4','132000','VEGAS'),\n",
    "('Steven Mascarenhas','2008-07-26','15','M','CS','2','114000','OHIO'),\n",
    "('Llyod Mascarenhas','2020-11-27','3','M','CS','2','75000','WASHINGTON'),\n",
    "('Roshaun Rodrigues','2003-08-19','20','M','IT','3','159000','VEGAS'),\n",
    "('Russel Ambatti','2006-06-07','17','M','IT','1','62000','OHIO');'''\n",
    "\n",
    "execute_query( insert_tab1)"
   ]
  },
  {
   "cell_type": "markdown",
   "id": "bdfb5258",
   "metadata": {},
   "source": [
    "## Displaying the data \n",
    "select statement"
   ]
  },
  {
   "cell_type": "code",
   "execution_count": 13,
   "id": "42b6fa3f",
   "metadata": {},
   "outputs": [
    {
     "name": "stdout",
     "output_type": "stream",
     "text": [
      "(1, 'Anthony Rodrigues', datetime.date(2006, 2, 8), 17, 'M', 'AI', 8.0, 200000.0, 'BOSTON')\n",
      "(2, 'Mark Rodrigues', datetime.date(2004, 1, 26), 19, 'M', 'CS', 8.0, 179000.0, 'BOSTON')\n",
      "(3, 'Leslie Rodrigues', datetime.date(2004, 8, 29), 21, 'M', 'CS', 7.0, 170000.0, 'BOSTON')\n",
      "(4, 'Caleb Rodrigues', datetime.date(2013, 12, 28), 10, 'M', 'CS', 3.0, 130000.0, 'OHIO')\n",
      "(5, 'Valencio Rodrigues', datetime.date(2001, 4, 12), 22, 'M', 'B', 5.0, 205000.0, 'BOSTON')\n",
      "(6, 'Vanessa Rodrigues', datetime.date(2000, 1, 27), 23, 'F', 'FD', 4.0, 120000.0, 'WASHINGTON')\n",
      "(7, 'Sharon Mascarenhas', datetime.date(2004, 8, 3), 19, 'F', 'CS', 4.0, 132000.0, 'VEGAS')\n",
      "(8, 'Steven Mascarenhas', datetime.date(2008, 7, 26), 15, 'M', 'CS', 2.0, 114000.0, 'OHIO')\n",
      "(9, 'Llyod Mascarenhas', datetime.date(2020, 11, 27), 3, 'M', 'CS', 2.0, 75000.0, 'WASHINGTON')\n",
      "(10, 'Roshaun Rodrigues', datetime.date(2003, 8, 19), 20, 'M', 'IT', 3.0, 159000.0, 'VEGAS')\n",
      "(11, 'Russel Ambatti', datetime.date(2006, 6, 7), 17, 'M', 'IT', 1.0, 62000.0, 'OHIO')\n"
     ]
    }
   ],
   "source": [
    "res = return_result( 'select * from employee_details')\n",
    "for i in res:\n",
    "    print(i)"
   ]
  },
  {
   "cell_type": "code",
   "execution_count": 14,
   "id": "6f5205f1",
   "metadata": {},
   "outputs": [
    {
     "data": {
      "text/html": [
       "<div>\n",
       "<style scoped>\n",
       "    .dataframe tbody tr th:only-of-type {\n",
       "        vertical-align: middle;\n",
       "    }\n",
       "\n",
       "    .dataframe tbody tr th {\n",
       "        vertical-align: top;\n",
       "    }\n",
       "\n",
       "    .dataframe thead th {\n",
       "        text-align: right;\n",
       "    }\n",
       "</style>\n",
       "<table border=\"1\" class=\"dataframe\">\n",
       "  <thead>\n",
       "    <tr style=\"text-align: right;\">\n",
       "      <th></th>\n",
       "      <th>EmployeeId</th>\n",
       "      <th>Name</th>\n",
       "      <th>D_O_J</th>\n",
       "      <th>Age</th>\n",
       "      <th>Gender</th>\n",
       "      <th>Department</th>\n",
       "      <th>Experience</th>\n",
       "      <th>Salary</th>\n",
       "      <th>City</th>\n",
       "    </tr>\n",
       "  </thead>\n",
       "  <tbody>\n",
       "    <tr>\n",
       "      <th>0</th>\n",
       "      <td>1</td>\n",
       "      <td>Anthony Rodrigues</td>\n",
       "      <td>2006-02-08</td>\n",
       "      <td>17</td>\n",
       "      <td>M</td>\n",
       "      <td>AI</td>\n",
       "      <td>8.0</td>\n",
       "      <td>200000.0</td>\n",
       "      <td>BOSTON</td>\n",
       "    </tr>\n",
       "    <tr>\n",
       "      <th>1</th>\n",
       "      <td>2</td>\n",
       "      <td>Mark Rodrigues</td>\n",
       "      <td>2004-01-26</td>\n",
       "      <td>19</td>\n",
       "      <td>M</td>\n",
       "      <td>CS</td>\n",
       "      <td>8.0</td>\n",
       "      <td>179000.0</td>\n",
       "      <td>BOSTON</td>\n",
       "    </tr>\n",
       "    <tr>\n",
       "      <th>2</th>\n",
       "      <td>3</td>\n",
       "      <td>Leslie Rodrigues</td>\n",
       "      <td>2004-08-29</td>\n",
       "      <td>21</td>\n",
       "      <td>M</td>\n",
       "      <td>CS</td>\n",
       "      <td>7.0</td>\n",
       "      <td>170000.0</td>\n",
       "      <td>BOSTON</td>\n",
       "    </tr>\n",
       "    <tr>\n",
       "      <th>3</th>\n",
       "      <td>4</td>\n",
       "      <td>Caleb Rodrigues</td>\n",
       "      <td>2013-12-28</td>\n",
       "      <td>10</td>\n",
       "      <td>M</td>\n",
       "      <td>CS</td>\n",
       "      <td>3.0</td>\n",
       "      <td>130000.0</td>\n",
       "      <td>OHIO</td>\n",
       "    </tr>\n",
       "    <tr>\n",
       "      <th>4</th>\n",
       "      <td>5</td>\n",
       "      <td>Valencio Rodrigues</td>\n",
       "      <td>2001-04-12</td>\n",
       "      <td>22</td>\n",
       "      <td>M</td>\n",
       "      <td>B</td>\n",
       "      <td>5.0</td>\n",
       "      <td>205000.0</td>\n",
       "      <td>BOSTON</td>\n",
       "    </tr>\n",
       "    <tr>\n",
       "      <th>5</th>\n",
       "      <td>6</td>\n",
       "      <td>Vanessa Rodrigues</td>\n",
       "      <td>2000-01-27</td>\n",
       "      <td>23</td>\n",
       "      <td>F</td>\n",
       "      <td>FD</td>\n",
       "      <td>4.0</td>\n",
       "      <td>120000.0</td>\n",
       "      <td>WASHINGTON</td>\n",
       "    </tr>\n",
       "    <tr>\n",
       "      <th>6</th>\n",
       "      <td>7</td>\n",
       "      <td>Sharon Mascarenhas</td>\n",
       "      <td>2004-08-03</td>\n",
       "      <td>19</td>\n",
       "      <td>F</td>\n",
       "      <td>CS</td>\n",
       "      <td>4.0</td>\n",
       "      <td>132000.0</td>\n",
       "      <td>VEGAS</td>\n",
       "    </tr>\n",
       "    <tr>\n",
       "      <th>7</th>\n",
       "      <td>8</td>\n",
       "      <td>Steven Mascarenhas</td>\n",
       "      <td>2008-07-26</td>\n",
       "      <td>15</td>\n",
       "      <td>M</td>\n",
       "      <td>CS</td>\n",
       "      <td>2.0</td>\n",
       "      <td>114000.0</td>\n",
       "      <td>OHIO</td>\n",
       "    </tr>\n",
       "    <tr>\n",
       "      <th>8</th>\n",
       "      <td>9</td>\n",
       "      <td>Llyod Mascarenhas</td>\n",
       "      <td>2020-11-27</td>\n",
       "      <td>3</td>\n",
       "      <td>M</td>\n",
       "      <td>CS</td>\n",
       "      <td>2.0</td>\n",
       "      <td>75000.0</td>\n",
       "      <td>WASHINGTON</td>\n",
       "    </tr>\n",
       "    <tr>\n",
       "      <th>9</th>\n",
       "      <td>10</td>\n",
       "      <td>Roshaun Rodrigues</td>\n",
       "      <td>2003-08-19</td>\n",
       "      <td>20</td>\n",
       "      <td>M</td>\n",
       "      <td>IT</td>\n",
       "      <td>3.0</td>\n",
       "      <td>159000.0</td>\n",
       "      <td>VEGAS</td>\n",
       "    </tr>\n",
       "    <tr>\n",
       "      <th>10</th>\n",
       "      <td>11</td>\n",
       "      <td>Russel Ambatti</td>\n",
       "      <td>2006-06-07</td>\n",
       "      <td>17</td>\n",
       "      <td>M</td>\n",
       "      <td>IT</td>\n",
       "      <td>1.0</td>\n",
       "      <td>62000.0</td>\n",
       "      <td>OHIO</td>\n",
       "    </tr>\n",
       "  </tbody>\n",
       "</table>\n",
       "</div>"
      ],
      "text/plain": [
       "    EmployeeId                Name       D_O_J  Age Gender Department  \\\n",
       "0            1   Anthony Rodrigues  2006-02-08   17      M         AI   \n",
       "1            2      Mark Rodrigues  2004-01-26   19      M         CS   \n",
       "2            3    Leslie Rodrigues  2004-08-29   21      M         CS   \n",
       "3            4     Caleb Rodrigues  2013-12-28   10      M         CS   \n",
       "4            5  Valencio Rodrigues  2001-04-12   22      M          B   \n",
       "5            6   Vanessa Rodrigues  2000-01-27   23      F         FD   \n",
       "6            7  Sharon Mascarenhas  2004-08-03   19      F         CS   \n",
       "7            8  Steven Mascarenhas  2008-07-26   15      M         CS   \n",
       "8            9   Llyod Mascarenhas  2020-11-27    3      M         CS   \n",
       "9           10   Roshaun Rodrigues  2003-08-19   20      M         IT   \n",
       "10          11      Russel Ambatti  2006-06-07   17      M         IT   \n",
       "\n",
       "    Experience    Salary        City  \n",
       "0          8.0  200000.0      BOSTON  \n",
       "1          8.0  179000.0      BOSTON  \n",
       "2          7.0  170000.0      BOSTON  \n",
       "3          3.0  130000.0        OHIO  \n",
       "4          5.0  205000.0      BOSTON  \n",
       "5          4.0  120000.0  WASHINGTON  \n",
       "6          4.0  132000.0       VEGAS  \n",
       "7          2.0  114000.0        OHIO  \n",
       "8          2.0   75000.0  WASHINGTON  \n",
       "9          3.0  159000.0       VEGAS  \n",
       "10         1.0   62000.0        OHIO  "
      ]
     },
     "execution_count": 14,
     "metadata": {},
     "output_type": "execute_result"
    }
   ],
   "source": [
    "from_table = []\n",
    "for i in res:\n",
    "    i = list(i)\n",
    "    from_table.append(i)\n",
    "cols = ['EmployeeId' ,'Name' ,'D_O_J' ,'Age' ,'Gender' ,'Department' ,'Experience' ,'Salary' ,'City']\n",
    "df = pd.DataFrame(from_table, columns=cols)\n",
    "df"
   ]
  },
  {
   "cell_type": "markdown",
   "id": "89e367b5",
   "metadata": {},
   "source": [
    "### Describe Table"
   ]
  },
  {
   "cell_type": "code",
   "execution_count": 15,
   "id": "6cee5735",
   "metadata": {},
   "outputs": [
    {
     "data": {
      "text/plain": [
       "[('EmployeeId', 'int', 'NO', 'PRI', None, 'auto_increment'),\n",
       " ('Name', 'varchar(20)', 'YES', '', None, ''),\n",
       " ('D_O_J', 'date', 'YES', 'UNI', None, ''),\n",
       " ('Age', 'int', 'YES', '', None, ''),\n",
       " ('Gender', 'char(4)', 'YES', '', None, ''),\n",
       " ('Department', 'varchar(20)', 'YES', '', None, ''),\n",
       " ('Experience', 'float', 'YES', '', None, ''),\n",
       " ('Salary', 'float', 'YES', '', None, ''),\n",
       " ('City', 'varchar(20)', 'YES', '', None, '')]"
      ]
     },
     "execution_count": 15,
     "metadata": {},
     "output_type": "execute_result"
    }
   ],
   "source": [
    "return_result( 'describe employee_details')"
   ]
  },
  {
   "cell_type": "code",
   "execution_count": 16,
   "id": "ed4c0c99",
   "metadata": {},
   "outputs": [
    {
     "name": "stdout",
     "output_type": "stream",
     "text": [
      "Query executed successfully\n"
     ]
    }
   ],
   "source": [
    "insert2_tab1 = '''insert into employee_details (Name,D_O_J,Age,Gender,Department,Experience,Salary,City) #cols to insert into \n",
    "values('Salu Bhai','1999-06-25','53','M','IT', 7, '57000', 'SEATTLE'), #rows to insert \n",
    "('P town', '2009-06-10', '24', 'M', 'AI', 5,  '170000', 'VEGAS'),\n",
    "('Rajesh', '2013-09-18', '29', 'F', 'B', 8, '84000', 'SEATTLE'),\n",
    "('Bimles', '2006-09-18', '59', 'F','FD',6, '58662.25', 'WASHINGTON');'''\n",
    "\n",
    "execute_query( insert2_tab1)"
   ]
  },
  {
   "cell_type": "markdown",
   "id": "b2863c35",
   "metadata": {},
   "source": [
    "<font face=gabriola>\n",
    "\n",
    "# Aggregate Functions\n",
    "    \n",
    "</font>\n",
    "1)distinct<br>\n",
    "2)avg<br>\n",
    "3)count<br>\n",
    "4)round<br>\n",
    "5)length<br>\n",
    "6)concat<br>\n",
    "7)repeat<br>\n",
    "8)ltrim/rtrim/trim<br>\n",
    "9)upper/lower<br>\n",
    "10)curdate<br>\n",
    "11)sum <br>\n",
    "12)reverse <br>\n",
    "13)substr/substring"
   ]
  },
  {
   "cell_type": "code",
   "execution_count": 17,
   "id": "7106b561",
   "metadata": {},
   "outputs": [
    {
     "data": {
      "text/plain": [
       "[('AI',), ('CS',), ('B',), ('FD',), ('IT',)]"
      ]
     },
     "execution_count": 17,
     "metadata": {},
     "output_type": "execute_result"
    }
   ],
   "source": [
    "return_result( 'select distinct(Department) from employee_details')"
   ]
  },
  {
   "cell_type": "code",
   "execution_count": 18,
   "id": "fa358e83",
   "metadata": {},
   "outputs": [
    {
     "data": {
      "text/plain": [
       "[(127710.81666666667,)]"
      ]
     },
     "execution_count": 18,
     "metadata": {},
     "output_type": "execute_result"
    }
   ],
   "source": [
    "return_result( 'select avg(Salary) from employee_details')"
   ]
  },
  {
   "cell_type": "code",
   "execution_count": 19,
   "id": "8e058054",
   "metadata": {},
   "outputs": [
    {
     "data": {
      "text/plain": [
       "[(15,)]"
      ]
     },
     "execution_count": 19,
     "metadata": {},
     "output_type": "execute_result"
    }
   ],
   "source": [
    "return_result( 'select count(Name) from employee_details')"
   ]
  },
  {
   "cell_type": "code",
   "execution_count": 20,
   "id": "9b3bbe8b",
   "metadata": {},
   "outputs": [
    {
     "data": {
      "text/plain": [
       "[('AI', 8.0, 'BOSTON', 6),\n",
       " ('CS', 8.0, 'BOSTON', 6),\n",
       " ('CS', 7.0, 'BOSTON', 6),\n",
       " ('CS', 3.0, 'OHIO', 6),\n",
       " ('B', 5.0, 'BOSTON', 6),\n",
       " ('FD', 4.0, 'WASHINGTON', 6),\n",
       " ('CS', 4.0, 'VEGAS', 6),\n",
       " ('CS', 2.0, 'OHIO', 6),\n",
       " ('CS', 2.0, 'WASHINGTON', 5),\n",
       " ('IT', 3.0, 'VEGAS', 6),\n",
       " ('IT', 1.0, 'OHIO', 5),\n",
       " ('IT', 7.0, 'SEATTLE', 5),\n",
       " ('AI', 5.0, 'VEGAS', 6),\n",
       " ('B', 8.0, 'SEATTLE', 5),\n",
       " ('FD', 6.0, 'WASHINGTON', 5)]"
      ]
     },
     "execution_count": 20,
     "metadata": {},
     "output_type": "execute_result"
    }
   ],
   "source": [
    "return_result( 'select Department, Experience,City, length(round(Salary)) as Sal_fig from employee_details')"
   ]
  },
  {
   "cell_type": "code",
   "execution_count": 21,
   "id": "1a85e7f5",
   "metadata": {},
   "outputs": [
    {
     "data": {
      "text/plain": [
       "[('Mr. Anthony Rodrigues has joined the company on 2006-02-08 is a 17 year old M Working in the AI Field with 8 years of experience from the BOSTON office.',),\n",
       " ('Mr. Mark Rodrigues has joined the company on 2004-01-26 is a 19 year old M Working in the CS Field with 8 years of experience from the BOSTON office.',),\n",
       " ('Mr. Leslie Rodrigues has joined the company on 2004-08-29 is a 21 year old M Working in the CS Field with 7 years of experience from the BOSTON office.',),\n",
       " ('Mr. Caleb Rodrigues has joined the company on 2013-12-28 is a 10 year old M Working in the CS Field with 3 years of experience from the OHIO office.',),\n",
       " ('Mr. Valencio Rodrigues has joined the company on 2001-04-12 is a 22 year old M Working in the B Field with 5 years of experience from the BOSTON office.',),\n",
       " ('Mr. Vanessa Rodrigues has joined the company on 2000-01-27 is a 23 year old F Working in the FD Field with 4 years of experience from the WASHINGTON office.',),\n",
       " ('Mr. Sharon Mascarenhas has joined the company on 2004-08-03 is a 19 year old F Working in the CS Field with 4 years of experience from the VEGAS office.',),\n",
       " ('Mr. Steven Mascarenhas has joined the company on 2008-07-26 is a 15 year old M Working in the CS Field with 2 years of experience from the OHIO office.',),\n",
       " ('Mr. Llyod Mascarenhas has joined the company on 2020-11-27 is a 3 year old M Working in the CS Field with 2 years of experience from the WASHINGTON office.',),\n",
       " ('Mr. Roshaun Rodrigues has joined the company on 2003-08-19 is a 20 year old M Working in the IT Field with 3 years of experience from the VEGAS office.',),\n",
       " ('Mr. Russel Ambatti has joined the company on 2006-06-07 is a 17 year old M Working in the IT Field with 1 years of experience from the OHIO office.',),\n",
       " ('Mr. Salu Bhai has joined the company on 1999-06-25 is a 53 year old M Working in the IT Field with 7 years of experience from the SEATTLE office.',),\n",
       " ('Mr. P town has joined the company on 2009-06-10 is a 24 year old M Working in the AI Field with 5 years of experience from the VEGAS office.',),\n",
       " ('Mr. Rajesh has joined the company on 2013-09-18 is a 29 year old F Working in the B Field with 8 years of experience from the SEATTLE office.',),\n",
       " ('Mr. Bimles has joined the company on 2006-09-18 is a 59 year old F Working in the FD Field with 6 years of experience from the WASHINGTON office.',)]"
      ]
     },
     "execution_count": 21,
     "metadata": {},
     "output_type": "execute_result"
    }
   ],
   "source": [
    "return_result( 'select concat(\"Mr. \",Name, \" has joined the company on \", D_O_J,\" is a \",Age, \" year old \", Gender,\" Working in the \", Department,\" Field with \",Experience,\" years of experience from the \", City,\" office.\") as Bio from employee_details')"
   ]
  },
  {
   "cell_type": "code",
   "execution_count": 22,
   "id": "2bafdae4",
   "metadata": {},
   "outputs": [
    {
     "data": {
      "text/plain": [
       "[('@ @ @ @ @ @ @ @ @ @ ',)]"
      ]
     },
     "execution_count": 22,
     "metadata": {},
     "output_type": "execute_result"
    }
   ],
   "source": [
    "return_result( 'select repeat(\"@ \", 10)')"
   ]
  },
  {
   "cell_type": "code",
   "execution_count": 23,
   "id": "1b4d2e93",
   "metadata": {},
   "outputs": [
    {
     "data": {
      "text/plain": [
       "[(7,)]"
      ]
     },
     "execution_count": 23,
     "metadata": {},
     "output_type": "execute_result"
    }
   ],
   "source": [
    "return_result( 'select length(ltrim(\"     Hi     \"))')#trims blank spaces from left"
   ]
  },
  {
   "cell_type": "code",
   "execution_count": 24,
   "id": "3ac8bd65",
   "metadata": {},
   "outputs": [
    {
     "data": {
      "text/plain": [
       "[(7,)]"
      ]
     },
     "execution_count": 24,
     "metadata": {},
     "output_type": "execute_result"
    }
   ],
   "source": [
    "return_result( 'select length(rtrim(\"     Hi     \"))')#trims blank spaces from right"
   ]
  },
  {
   "cell_type": "code",
   "execution_count": 25,
   "id": "ba81d5dd",
   "metadata": {},
   "outputs": [
    {
     "data": {
      "text/plain": [
       "[(2,)]"
      ]
     },
     "execution_count": 25,
     "metadata": {},
     "output_type": "execute_result"
    }
   ],
   "source": [
    "return_result( 'select length(trim(\"     Hi      \"))')#trims blank spaces from both sides"
   ]
  },
  {
   "cell_type": "code",
   "execution_count": 26,
   "id": "bb9e084f",
   "metadata": {},
   "outputs": [
    {
     "data": {
      "text/plain": [
       "[('ANTHONY RODRIGUES',),\n",
       " ('MARK RODRIGUES',),\n",
       " ('LESLIE RODRIGUES',),\n",
       " ('CALEB RODRIGUES',),\n",
       " ('VALENCIO RODRIGUES',),\n",
       " ('VANESSA RODRIGUES',),\n",
       " ('SHARON MASCARENHAS',),\n",
       " ('STEVEN MASCARENHAS',),\n",
       " ('LLYOD MASCARENHAS',),\n",
       " ('ROSHAUN RODRIGUES',),\n",
       " ('RUSSEL AMBATTI',),\n",
       " ('SALU BHAI',),\n",
       " ('P TOWN',),\n",
       " ('RAJESH',),\n",
       " ('BIMLES',)]"
      ]
     },
     "execution_count": 26,
     "metadata": {},
     "output_type": "execute_result"
    }
   ],
   "source": [
    "return_result( 'select upper(Name)from employee_details')"
   ]
  },
  {
   "cell_type": "code",
   "execution_count": 27,
   "id": "cd6ba003",
   "metadata": {},
   "outputs": [
    {
     "data": {
      "text/plain": [
       "[('boston',),\n",
       " ('boston',),\n",
       " ('boston',),\n",
       " ('ohio',),\n",
       " ('boston',),\n",
       " ('washington',),\n",
       " ('vegas',),\n",
       " ('ohio',),\n",
       " ('washington',),\n",
       " ('vegas',),\n",
       " ('ohio',),\n",
       " ('seattle',),\n",
       " ('vegas',),\n",
       " ('seattle',),\n",
       " ('washington',)]"
      ]
     },
     "execution_count": 27,
     "metadata": {},
     "output_type": "execute_result"
    }
   ],
   "source": [
    "return_result( 'select lower(City)from employee_details')"
   ]
  },
  {
   "cell_type": "code",
   "execution_count": 28,
   "id": "134e4422",
   "metadata": {},
   "outputs": [
    {
     "data": {
      "text/plain": [
       "[(datetime.date(2023, 8, 2),)]"
      ]
     },
     "execution_count": 28,
     "metadata": {},
     "output_type": "execute_result"
    }
   ],
   "source": [
    "return_result( 'select curdate()')"
   ]
  },
  {
   "cell_type": "code",
   "execution_count": 29,
   "id": "0043f88d",
   "metadata": {},
   "outputs": [
    {
     "data": {
      "text/plain": [
       "[(1915662.25,)]"
      ]
     },
     "execution_count": 29,
     "metadata": {},
     "output_type": "execute_result"
    }
   ],
   "source": [
    "return_result( 'select sum(Salary) from employee_details')"
   ]
  },
  {
   "cell_type": "code",
   "execution_count": 30,
   "id": "ce6ef27d",
   "metadata": {},
   "outputs": [
    {
     "data": {
      "text/plain": [
       "[('reversed',)]"
      ]
     },
     "execution_count": 30,
     "metadata": {},
     "output_type": "execute_result"
    }
   ],
   "source": [
    "return_result( 'select reverse(\"desrever\")')"
   ]
  },
  {
   "cell_type": "code",
   "execution_count": 31,
   "id": "1eb19863",
   "metadata": {},
   "outputs": [
    {
     "data": {
      "text/plain": [
       "[('stri',)]"
      ]
     },
     "execution_count": 31,
     "metadata": {},
     "output_type": "execute_result"
    }
   ],
   "source": [
    "return_result( 'select substr(\"substring\", 4, 4)')"
   ]
  },
  {
   "cell_type": "code",
   "execution_count": 32,
   "id": "4513e9e1",
   "metadata": {},
   "outputs": [
    {
     "data": {
      "text/plain": [
       "[(10, 10, 10, Decimal('10'))]"
      ]
     },
     "execution_count": 32,
     "metadata": {},
     "output_type": "execute_result"
    }
   ],
   "source": [
    "return_result('select (100-90)  ,(5+5) , (5*2), round((900/90))')"
   ]
  },
  {
   "cell_type": "code",
   "execution_count": 33,
   "id": "71fd9068",
   "metadata": {
    "scrolled": true
   },
   "outputs": [
    {
     "data": {
      "text/plain": [
       "[('chahiters',)]"
      ]
     },
     "execution_count": 33,
     "metadata": {},
     "output_type": "execute_result"
    }
   ],
   "source": [
    "return_result('select insert(\"characters\", 4, 3, \"hi\")')"
   ]
  },
  {
   "cell_type": "markdown",
   "id": "477b6f4c",
   "metadata": {},
   "source": [
    "### Where clause\n",
    "condition based"
   ]
  },
  {
   "cell_type": "code",
   "execution_count": 34,
   "id": "b66a88a8",
   "metadata": {},
   "outputs": [
    {
     "name": "stdout",
     "output_type": "stream",
     "text": [
      "(6, 'Vanessa Rodrigues', datetime.date(2000, 1, 27), 23, 'F', 'FD', 4.0, 120000.0, 'WASHINGTON', 10)\n",
      "(9, 'Llyod Mascarenhas', datetime.date(2020, 11, 27), 3, 'M', 'CS', 2.0, 75000.0, 'WASHINGTON', 10)\n",
      "(12, 'Salu Bhai', datetime.date(1999, 6, 25), 53, 'M', 'IT', 7.0, 57000.0, 'SEATTLE', 7)\n",
      "(14, 'Rajesh', datetime.date(2013, 9, 18), 29, 'F', 'B', 8.0, 84000.0, 'SEATTLE', 7)\n",
      "(15, 'Bimles', datetime.date(2006, 9, 18), 59, 'F', 'FD', 6.0, 58662.2, 'WASHINGTON', 10)\n"
     ]
    }
   ],
   "source": [
    "res = return_result('select *,character_length(City) from employee_details where character_length(City) > 6')\n",
    "for i in res:\n",
    "    print(i)"
   ]
  },
  {
   "cell_type": "code",
   "execution_count": 35,
   "id": "1ec86c35",
   "metadata": {},
   "outputs": [
    {
     "name": "stdout",
     "output_type": "stream",
     "text": [
      "(1, 'Anthony Rodrigues', datetime.date(2006, 2, 8), 17, 'M', 'AI', 8.0, 200000.0, 'BOSTON')\n",
      "(2, 'Mark Rodrigues', datetime.date(2004, 1, 26), 19, 'M', 'CS', 8.0, 179000.0, 'BOSTON')\n",
      "(3, 'Leslie Rodrigues', datetime.date(2004, 8, 29), 21, 'M', 'CS', 7.0, 170000.0, 'BOSTON')\n",
      "(4, 'Caleb Rodrigues', datetime.date(2013, 12, 28), 10, 'M', 'CS', 3.0, 130000.0, 'OHIO')\n",
      "(5, 'Valencio Rodrigues', datetime.date(2001, 4, 12), 22, 'M', 'B', 5.0, 205000.0, 'BOSTON')\n",
      "(6, 'Vanessa Rodrigues', datetime.date(2000, 1, 27), 23, 'F', 'FD', 4.0, 120000.0, 'WASHINGTON')\n",
      "(7, 'Sharon Mascarenhas', datetime.date(2004, 8, 3), 19, 'F', 'CS', 4.0, 132000.0, 'VEGAS')\n",
      "(8, 'Steven Mascarenhas', datetime.date(2008, 7, 26), 15, 'M', 'CS', 2.0, 114000.0, 'OHIO')\n",
      "(10, 'Roshaun Rodrigues', datetime.date(2003, 8, 19), 20, 'M', 'IT', 3.0, 159000.0, 'VEGAS')\n",
      "(13, 'P town', datetime.date(2009, 6, 10), 24, 'M', 'AI', 5.0, 170000.0, 'VEGAS')\n"
     ]
    }
   ],
   "source": [
    "res = return_result( 'select * from employee_details where length(round(Salary)) > 5')\n",
    "for i in res:\n",
    "    print(i)"
   ]
  },
  {
   "cell_type": "markdown",
   "id": "ef2a3363",
   "metadata": {},
   "source": [
    "### and operator \n",
    "multi conditional"
   ]
  },
  {
   "cell_type": "code",
   "execution_count": 36,
   "id": "e2532135",
   "metadata": {},
   "outputs": [
    {
     "name": "stdout",
     "output_type": "stream",
     "text": [
      "(4, 'Caleb Rodrigues', datetime.date(2013, 12, 28), 10, 'M', 'CS', 3.0, 130000.0, 'OHIO')\n",
      "(7, 'Sharon Mascarenhas', datetime.date(2004, 8, 3), 19, 'F', 'CS', 4.0, 132000.0, 'VEGAS')\n",
      "(10, 'Roshaun Rodrigues', datetime.date(2003, 8, 19), 20, 'M', 'IT', 3.0, 159000.0, 'VEGAS')\n",
      "(13, 'P town', datetime.date(2009, 6, 10), 24, 'M', 'AI', 5.0, 170000.0, 'VEGAS')\n"
     ]
    }
   ],
   "source": [
    "res = return_result( 'select * from employee_details where City in (\"OHIO\", \"VEGAS\") and Experience > 2')\n",
    "for i in res:\n",
    "    print(i)"
   ]
  },
  {
   "cell_type": "code",
   "execution_count": 37,
   "id": "3592d14b",
   "metadata": {},
   "outputs": [
    {
     "name": "stdout",
     "output_type": "stream",
     "text": [
      "(5, 'Valencio Rodrigues', datetime.date(2001, 4, 12), 22, 'M', 'B', 5.0, 205000.0, 'BOSTON')\n",
      "(10, 'Roshaun Rodrigues', datetime.date(2003, 8, 19), 20, 'M', 'IT', 3.0, 159000.0, 'VEGAS')\n",
      "(2, 'Mark Rodrigues', datetime.date(2004, 1, 26), 19, 'M', 'CS', 8.0, 179000.0, 'BOSTON')\n",
      "(7, 'Sharon Mascarenhas', datetime.date(2004, 8, 3), 19, 'F', 'CS', 4.0, 132000.0, 'VEGAS')\n",
      "(3, 'Leslie Rodrigues', datetime.date(2004, 8, 29), 21, 'M', 'CS', 7.0, 170000.0, 'BOSTON')\n",
      "(1, 'Anthony Rodrigues', datetime.date(2006, 2, 8), 17, 'M', 'AI', 8.0, 200000.0, 'BOSTON')\n",
      "(11, 'Russel Ambatti', datetime.date(2006, 6, 7), 17, 'M', 'IT', 1.0, 62000.0, 'OHIO')\n",
      "(15, 'Bimles', datetime.date(2006, 9, 18), 59, 'F', 'FD', 6.0, 58662.2, 'WASHINGTON')\n",
      "(8, 'Steven Mascarenhas', datetime.date(2008, 7, 26), 15, 'M', 'CS', 2.0, 114000.0, 'OHIO')\n",
      "(13, 'P town', datetime.date(2009, 6, 10), 24, 'M', 'AI', 5.0, 170000.0, 'VEGAS')\n"
     ]
    }
   ],
   "source": [
    "res = return_result( 'select * from employee_details where D_O_J between \"2001-01-01\" and \"2010-12-31\"')\n",
    "for i in res:\n",
    "    print(i)"
   ]
  },
  {
   "cell_type": "markdown",
   "id": "cd69832e",
   "metadata": {},
   "source": [
    "### or operator \n",
    "multi conditional"
   ]
  },
  {
   "cell_type": "code",
   "execution_count": 38,
   "id": "ca20369c",
   "metadata": {
    "scrolled": true
   },
   "outputs": [
    {
     "name": "stdout",
     "output_type": "stream",
     "text": [
      "(4, 'Caleb Rodrigues', datetime.date(2013, 12, 28), 10, 'M', 'CS', 3.0, 130000.0, 'OHIO')\n",
      "(8, 'Steven Mascarenhas', datetime.date(2008, 7, 26), 15, 'M', 'CS', 2.0, 114000.0, 'OHIO')\n",
      "(11, 'Russel Ambatti', datetime.date(2006, 6, 7), 17, 'M', 'IT', 1.0, 62000.0, 'OHIO')\n",
      "(12, 'Salu Bhai', datetime.date(1999, 6, 25), 53, 'M', 'IT', 7.0, 57000.0, 'SEATTLE')\n",
      "(15, 'Bimles', datetime.date(2006, 9, 18), 59, 'F', 'FD', 6.0, 58662.2, 'WASHINGTON')\n"
     ]
    }
   ],
   "source": [
    "res = return_result( 'select * from employee_details where City =\"OHIO\" or Salary < 75000')\n",
    "for i in res :\n",
    "    print(i)"
   ]
  },
  {
   "cell_type": "markdown",
   "id": "a1146c74",
   "metadata": {},
   "source": [
    "### not operator"
   ]
  },
  {
   "cell_type": "code",
   "execution_count": 39,
   "id": "a4a52b99",
   "metadata": {
    "scrolled": false
   },
   "outputs": [
    {
     "name": "stdout",
     "output_type": "stream",
     "text": [
      "(1, 'Anthony Rodrigues', datetime.date(2006, 2, 8), 17, 'M', 'AI', 8.0, 200000.0, 'BOSTON')\n",
      "(2, 'Mark Rodrigues', datetime.date(2004, 1, 26), 19, 'M', 'CS', 8.0, 179000.0, 'BOSTON')\n",
      "(3, 'Leslie Rodrigues', datetime.date(2004, 8, 29), 21, 'M', 'CS', 7.0, 170000.0, 'BOSTON')\n",
      "(5, 'Valencio Rodrigues', datetime.date(2001, 4, 12), 22, 'M', 'B', 5.0, 205000.0, 'BOSTON')\n",
      "(6, 'Vanessa Rodrigues', datetime.date(2000, 1, 27), 23, 'F', 'FD', 4.0, 120000.0, 'WASHINGTON')\n",
      "(7, 'Sharon Mascarenhas', datetime.date(2004, 8, 3), 19, 'F', 'CS', 4.0, 132000.0, 'VEGAS')\n",
      "(9, 'Llyod Mascarenhas', datetime.date(2020, 11, 27), 3, 'M', 'CS', 2.0, 75000.0, 'WASHINGTON')\n",
      "(10, 'Roshaun Rodrigues', datetime.date(2003, 8, 19), 20, 'M', 'IT', 3.0, 159000.0, 'VEGAS')\n",
      "(13, 'P town', datetime.date(2009, 6, 10), 24, 'M', 'AI', 5.0, 170000.0, 'VEGAS')\n",
      "(14, 'Rajesh', datetime.date(2013, 9, 18), 29, 'F', 'B', 8.0, 84000.0, 'SEATTLE')\n"
     ]
    }
   ],
   "source": [
    "res = return_result('select * from employee_details where not City = \"OHIO\" and not Salary < 75000')\n",
    "for i in res :\n",
    "    print(i)"
   ]
  },
  {
   "cell_type": "markdown",
   "id": "b71301f3",
   "metadata": {},
   "source": [
    "### like operator\n",
    "wild card character -  1)% - represents 0,1 or more characters<br> \n",
    "                       2)_ - represents a single character"
   ]
  },
  {
   "cell_type": "code",
   "execution_count": 40,
   "id": "dec4dda9",
   "metadata": {},
   "outputs": [
    {
     "name": "stdout",
     "output_type": "stream",
     "text": [
      "(3, 'Leslie Rodrigues', datetime.date(2004, 8, 29), 21, 'M', 'CS', 7.0, 170000.0, 'BOSTON')\n",
      "(7, 'Sharon Mascarenhas', datetime.date(2004, 8, 3), 19, 'F', 'CS', 4.0, 132000.0, 'VEGAS')\n",
      "(10, 'Roshaun Rodrigues', datetime.date(2003, 8, 19), 20, 'M', 'IT', 3.0, 159000.0, 'VEGAS')\n"
     ]
    }
   ],
   "source": [
    "res = return_result('select * from employee_details where D_O_J like \"%-08-%\"')\n",
    "for i in res :\n",
    "    print(i)"
   ]
  },
  {
   "cell_type": "code",
   "execution_count": 41,
   "id": "1db5f611",
   "metadata": {},
   "outputs": [
    {
     "name": "stdout",
     "output_type": "stream",
     "text": [
      "(1, 'Anthony Rodrigues', datetime.date(2006, 2, 8), 17, 'M', 'AI', 8.0, 200000.0, 'BOSTON')\n",
      "(2, 'Mark Rodrigues', datetime.date(2004, 1, 26), 19, 'M', 'CS', 8.0, 179000.0, 'BOSTON')\n",
      "(3, 'Leslie Rodrigues', datetime.date(2004, 8, 29), 21, 'M', 'CS', 7.0, 170000.0, 'BOSTON')\n",
      "(4, 'Caleb Rodrigues', datetime.date(2013, 12, 28), 10, 'M', 'CS', 3.0, 130000.0, 'OHIO')\n",
      "(5, 'Valencio Rodrigues', datetime.date(2001, 4, 12), 22, 'M', 'B', 5.0, 205000.0, 'BOSTON')\n",
      "(6, 'Vanessa Rodrigues', datetime.date(2000, 1, 27), 23, 'F', 'FD', 4.0, 120000.0, 'WASHINGTON')\n",
      "(10, 'Roshaun Rodrigues', datetime.date(2003, 8, 19), 20, 'M', 'IT', 3.0, 159000.0, 'VEGAS')\n"
     ]
    }
   ],
   "source": [
    "res = return_result('select * from employee_details where Name like \"%Rodrigues\"')\n",
    "for i in res :\n",
    "    print(i)"
   ]
  },
  {
   "cell_type": "code",
   "execution_count": 42,
   "id": "2625d49d",
   "metadata": {},
   "outputs": [
    {
     "name": "stdout",
     "output_type": "stream",
     "text": [
      "(2, 'Mark Rodrigues', datetime.date(2004, 1, 26), 19, 'M', 'CS', 8.0, 179000.0, 'BOSTON')\n",
      "(4, 'Caleb Rodrigues', datetime.date(2013, 12, 28), 10, 'M', 'CS', 3.0, 130000.0, 'OHIO')\n",
      "(5, 'Valencio Rodrigues', datetime.date(2001, 4, 12), 22, 'M', 'B', 5.0, 205000.0, 'BOSTON')\n",
      "(6, 'Vanessa Rodrigues', datetime.date(2000, 1, 27), 23, 'F', 'FD', 4.0, 120000.0, 'WASHINGTON')\n"
     ]
    }
   ],
   "source": [
    "res = return_result('select * from employee_details where Name like \"_a%\" and Name like \"%gue_\" ')\n",
    "for i in res :\n",
    "    print(i)"
   ]
  },
  {
   "cell_type": "markdown",
   "id": "b6197bb7",
   "metadata": {},
   "source": [
    "### using between"
   ]
  },
  {
   "cell_type": "code",
   "execution_count": 43,
   "id": "b7b5ed32",
   "metadata": {},
   "outputs": [
    {
     "name": "stdout",
     "output_type": "stream",
     "text": [
      "(4, 'Caleb Rodrigues', datetime.date(2013, 12, 28), 10, 'M', 'CS', 3.0, 130000.0, 'OHIO')\n",
      "(9, 'Llyod Mascarenhas', datetime.date(2020, 11, 27), 3, 'M', 'CS', 2.0, 75000.0, 'WASHINGTON')\n",
      "(14, 'Rajesh', datetime.date(2013, 9, 18), 29, 'F', 'B', 8.0, 84000.0, 'SEATTLE')\n"
     ]
    }
   ],
   "source": [
    "res = return_result('select * from employee_details where year(D_O_J) between \"2010\" and \"2020\" ')\n",
    "for i in res :\n",
    "    print(i)"
   ]
  },
  {
   "cell_type": "markdown",
   "id": "6d034c80",
   "metadata": {},
   "source": [
    "### Limit clause"
   ]
  },
  {
   "cell_type": "code",
   "execution_count": 44,
   "id": "d4a31698",
   "metadata": {},
   "outputs": [
    {
     "name": "stdout",
     "output_type": "stream",
     "text": [
      "(1, 'Anthony Rodrigues', datetime.date(2006, 2, 8), 17, 'M', 'AI', 8.0, 200000.0, 'BOSTON')\n",
      "(2, 'Mark Rodrigues', datetime.date(2004, 1, 26), 19, 'M', 'CS', 8.0, 179000.0, 'BOSTON')\n",
      "(3, 'Leslie Rodrigues', datetime.date(2004, 8, 29), 21, 'M', 'CS', 7.0, 170000.0, 'BOSTON')\n"
     ]
    }
   ],
   "source": [
    "res = return_result('select * from employee_details limit 3')\n",
    "for i in res :\n",
    "    print(i)"
   ]
  },
  {
   "cell_type": "code",
   "execution_count": 45,
   "id": "77c3e4cf",
   "metadata": {},
   "outputs": [
    {
     "name": "stdout",
     "output_type": "stream",
     "text": [
      "(12, 'Salu Bhai', datetime.date(1999, 6, 25), 53, 'M', 'IT', 7.0, 57000.0, 'SEATTLE')\n",
      "(15, 'Bimles', datetime.date(2006, 9, 18), 59, 'F', 'FD', 6.0, 58662.2, 'WASHINGTON')\n"
     ]
    }
   ],
   "source": [
    "res = return_result('select * from employee_details where Age > 50 limit 3')\n",
    "for i in res :\n",
    "    print(i)"
   ]
  },
  {
   "cell_type": "markdown",
   "id": "dbc05ad0",
   "metadata": {},
   "source": [
    "### Group by clause"
   ]
  },
  {
   "cell_type": "code",
   "execution_count": 46,
   "id": "35665258",
   "metadata": {},
   "outputs": [
    {
     "data": {
      "text/plain": [
       "[('AI', 185000.0),\n",
       " ('CS', 133333.33333333334),\n",
       " ('B', 144500.0),\n",
       " ('FD', 89331.125),\n",
       " ('IT', 92666.66666666667)]"
      ]
     },
     "execution_count": 46,
     "metadata": {},
     "output_type": "execute_result"
    }
   ],
   "source": [
    "return_result('select Department, avg(Salary) from employee_details group by Department')"
   ]
  },
  {
   "cell_type": "code",
   "execution_count": 47,
   "id": "2122cb04",
   "metadata": {},
   "outputs": [
    {
     "data": {
      "text/plain": [
       "[('BOSTON', 188500.0), ('OHIO', 102000.0)]"
      ]
     },
     "execution_count": 47,
     "metadata": {},
     "output_type": "execute_result"
    }
   ],
   "source": [
    "return_result('select City, avg(Salary) from employee_details where city in (\"BOSTON\",\"OHIO\") group by City')"
   ]
  },
  {
   "cell_type": "code",
   "execution_count": 48,
   "id": "10fbdf22",
   "metadata": {},
   "outputs": [
    {
     "data": {
      "text/plain": [
       "[('BOSTON', 4), ('OHIO', 3), ('WASHINGTON', 3), ('VEGAS', 3)]"
      ]
     },
     "execution_count": 48,
     "metadata": {},
     "output_type": "execute_result"
    }
   ],
   "source": [
    "return_result('select City, count(Name) as No_of_Emp from employee_details group by City having count(Name)>2')"
   ]
  },
  {
   "cell_type": "markdown",
   "id": "51bc50ba",
   "metadata": {},
   "source": [
    "### Order by"
   ]
  },
  {
   "cell_type": "code",
   "execution_count": 49,
   "id": "4b53f340",
   "metadata": {},
   "outputs": [
    {
     "data": {
      "text/plain": [
       "[('WASHINGTON', 3), ('VEGAS', 3), ('OHIO', 3), ('BOSTON', 4)]"
      ]
     },
     "execution_count": 49,
     "metadata": {},
     "output_type": "execute_result"
    }
   ],
   "source": [
    "return_result('select City, count(Name) as No_of_Emp from employee_details where City != \"Seattle\" group by City order by City desc')"
   ]
  },
  {
   "cell_type": "code",
   "execution_count": 50,
   "id": "fc9109d9",
   "metadata": {},
   "outputs": [
    {
     "data": {
      "text/plain": [
       "[('OHIO', 4), ('VEGAS', 5), ('BOSTON', 6), ('SEATTLE', 7), ('WASHINGTON', 10)]"
      ]
     },
     "execution_count": 50,
     "metadata": {},
     "output_type": "execute_result"
    }
   ],
   "source": [
    "return_result('select City,character_length(City) from employee_details group by City order by character_length(City) asc')"
   ]
  },
  {
   "cell_type": "code",
   "execution_count": 51,
   "id": "55574220",
   "metadata": {},
   "outputs": [
    {
     "data": {
      "text/plain": [
       "[(1999, 1), (2000, 1), (2001, 1), (2003, 1), (2004, 3)]"
      ]
     },
     "execution_count": 51,
     "metadata": {},
     "output_type": "execute_result"
    }
   ],
   "source": [
    "return_result('select year(D_O_J),count(D_O_J) from employee_details group by year(D_O_J) order by year(D_O_J) asc limit 5')"
   ]
  },
  {
   "cell_type": "markdown",
   "id": "13bffe7e",
   "metadata": {},
   "source": [
    "### having clause"
   ]
  },
  {
   "cell_type": "code",
   "execution_count": 52,
   "id": "e3e49161",
   "metadata": {},
   "outputs": [
    {
     "data": {
      "text/plain": [
       "[('AI', 185000.0)]"
      ]
     },
     "execution_count": 52,
     "metadata": {},
     "output_type": "execute_result"
    }
   ],
   "source": [
    "return_result( 'select Department, avg(Salary) from employee_details where  Department != \"CS\" group by Department having avg(Salary) > 160000 order by avg(Salary) desc')"
   ]
  },
  {
   "cell_type": "markdown",
   "id": "94f4c816",
   "metadata": {},
   "source": [
    "### update statement"
   ]
  },
  {
   "cell_type": "code",
   "execution_count": 53,
   "id": "5ace7d54",
   "metadata": {},
   "outputs": [
    {
     "name": "stdout",
     "output_type": "stream",
     "text": [
      "Query executed successfully\n"
     ]
    },
    {
     "data": {
      "text/plain": [
       "[('AI', 185000.0),\n",
       " ('B', 144500.0),\n",
       " ('FD', 111663.90625),\n",
       " ('IT', 92666.66666666667)]"
      ]
     },
     "execution_count": 53,
     "metadata": {},
     "output_type": "execute_result"
    }
   ],
   "source": [
    "execute_query('update employee_details set Salary = Salary * 1.25 where Department = \"FD\"') #25% hike\n",
    "return_result( 'select Department, avg(Salary) from employee_details where  Department != \"CS\" group by Department')"
   ]
  },
  {
   "cell_type": "markdown",
   "id": "f19d4192",
   "metadata": {},
   "source": [
    "### Truncate statement \n",
    "delete all records but not the table"
   ]
  },
  {
   "cell_type": "code",
   "execution_count": 54,
   "id": "f2027868",
   "metadata": {},
   "outputs": [
    {
     "name": "stdout",
     "output_type": "stream",
     "text": [
      "Query executed successfully\n",
      "Query executed successfully\n",
      "(1, 'web chatbot', 'recommendation_system')\n",
      "(2, 'web_backend', 'software updates')\n"
     ]
    }
   ],
   "source": [
    "tabs = '''create table garbage(ID int not null primary key auto_increment,\n",
    "Applications_created varchar(20), \n",
    "Current_Assignment varchar(30))'''\n",
    "\n",
    "execute_query( tabs)\n",
    "\n",
    "inserts ='''insert into garbage(Applications_created, Current_Assignment ) \n",
    "values ('web chatbot','recommendation_system'),\n",
    "('web_backend','software updates')'''\n",
    "\n",
    "execute_query( inserts)\n",
    "\n",
    "result = return_result( 'select * from garbage')\n",
    "for i in result:\n",
    "    print(i)"
   ]
  },
  {
   "cell_type": "code",
   "execution_count": 55,
   "id": "fb50cf72",
   "metadata": {},
   "outputs": [
    {
     "name": "stdout",
     "output_type": "stream",
     "text": [
      "Query executed successfully\n"
     ]
    },
    {
     "data": {
      "text/plain": [
       "[]"
      ]
     },
     "execution_count": 55,
     "metadata": {},
     "output_type": "execute_result"
    }
   ],
   "source": [
    "execute_query('truncate table garbage;')\n",
    "return_result( 'select * from garbage')"
   ]
  },
  {
   "cell_type": "code",
   "execution_count": 56,
   "id": "4fa8bb6e",
   "metadata": {},
   "outputs": [
    {
     "name": "stdout",
     "output_type": "stream",
     "text": [
      "Query executed successfully\n"
     ]
    }
   ],
   "source": [
    "execute_query('drop table garbage;')"
   ]
  },
  {
   "cell_type": "code",
   "execution_count": 57,
   "id": "ba765ee3",
   "metadata": {},
   "outputs": [
    {
     "data": {
      "text/plain": [
       "[('emp2',),\n",
       " ('employee',),\n",
       " ('employee_details',),\n",
       " ('entries',),\n",
       " ('position_',),\n",
       " ('records',),\n",
       " ('work_details',)]"
      ]
     },
     "execution_count": 57,
     "metadata": {},
     "output_type": "execute_result"
    }
   ],
   "source": [
    "return_result('show tables;')"
   ]
  },
  {
   "cell_type": "markdown",
   "id": "00ed0235",
   "metadata": {},
   "source": [
    "### Joins"
   ]
  },
  {
   "cell_type": "markdown",
   "id": "24775c44",
   "metadata": {},
   "source": [
    "### inner join - displays records which are present in both the tables "
   ]
  },
  {
   "cell_type": "code",
   "execution_count": 58,
   "id": "3a31c238",
   "metadata": {
    "scrolled": false
   },
   "outputs": [
    {
     "name": "stdout",
     "output_type": "stream",
     "text": [
      "Query executed successfully\n",
      "Query executed successfully\n",
      "Query executed successfully\n"
     ]
    }
   ],
   "source": [
    "execute_query('drop table if exists employee_work;')\n",
    "\n",
    "tab2 = '''create table employee_work(ID int not null primary key auto_increment,\n",
    "Applications_created varchar(20) default \"Model fashion design\", \n",
    "Current_Assignment varchar(30))'''\n",
    "\n",
    "execute_query( tab2)\n",
    "\n",
    "insert_tab2 = '''insert into employee_work(Applications_created, Current_Assignment ) \n",
    "values ('web chatbot','recommendation_system'),\n",
    "('web_backend','software updates'),\n",
    "('web_design','updates'),\n",
    "('web_design','additional tools'),\n",
    "('Business analysis','Progress Ideas'),\n",
    "(default,''),\n",
    "('web_design','additional'),\n",
    "('web_backend','software updates'),\n",
    "('web_design','updates'),\n",
    "('Hardware Malfunction','Debugging'),\n",
    "('Hardware Malfunction','Debugging'),\n",
    "('Hardware Malfunction','Debugging'),\n",
    "('web chatbot','reccomendation_system'),\n",
    "('Business analysis','Progress Ideas')'''\n",
    "\n",
    "execute_query( insert_tab2)"
   ]
  },
  {
   "cell_type": "code",
   "execution_count": 59,
   "id": "5f5749c9",
   "metadata": {},
   "outputs": [
    {
     "data": {
      "text/plain": [
       "[('emp2',),\n",
       " ('employee',),\n",
       " ('employee_details',),\n",
       " ('employee_work',),\n",
       " ('entries',),\n",
       " ('position_',),\n",
       " ('records',),\n",
       " ('work_details',)]"
      ]
     },
     "execution_count": 59,
     "metadata": {},
     "output_type": "execute_result"
    }
   ],
   "source": [
    "return_result('show tables;')"
   ]
  },
  {
   "cell_type": "code",
   "execution_count": 60,
   "id": "f9e370d3",
   "metadata": {},
   "outputs": [
    {
     "data": {
      "text/plain": [
       "[(1, 'web chatbot', 'recommendation_system'),\n",
       " (2, 'web_backend', 'software updates'),\n",
       " (3, 'web_design', 'updates'),\n",
       " (4, 'web_design', 'additional tools'),\n",
       " (5, 'Business analysis', 'Progress Ideas'),\n",
       " (6, 'Model fashion design', ''),\n",
       " (7, 'web_design', 'additional'),\n",
       " (8, 'web_backend', 'software updates'),\n",
       " (9, 'web_design', 'updates'),\n",
       " (10, 'Hardware Malfunction', 'Debugging'),\n",
       " (11, 'Hardware Malfunction', 'Debugging'),\n",
       " (12, 'Hardware Malfunction', 'Debugging'),\n",
       " (13, 'web chatbot', 'reccomendation_system'),\n",
       " (14, 'Business analysis', 'Progress Ideas')]"
      ]
     },
     "execution_count": 60,
     "metadata": {},
     "output_type": "execute_result"
    }
   ],
   "source": [
    "return_result( 'select * from employee_work ')"
   ]
  },
  {
   "cell_type": "code",
   "execution_count": 61,
   "id": "8df2066a",
   "metadata": {},
   "outputs": [
    {
     "data": {
      "text/plain": [
       "[(1, 'Anthony Rodrigues', 'AI', 'web chatbot', 'recommendation_system'),\n",
       " (2, 'Mark Rodrigues', 'CS', 'web_backend', 'software updates'),\n",
       " (3, 'Leslie Rodrigues', 'CS', 'web_design', 'updates'),\n",
       " (4, 'Caleb Rodrigues', 'CS', 'web_design', 'additional tools'),\n",
       " (5, 'Valencio Rodrigues', 'B', 'Business analysis', 'Progress Ideas'),\n",
       " (6, 'Vanessa Rodrigues', 'FD', 'Model fashion design', ''),\n",
       " (7, 'Sharon Mascarenhas', 'CS', 'web_design', 'additional'),\n",
       " (8, 'Steven Mascarenhas', 'CS', 'web_backend', 'software updates'),\n",
       " (9, 'Llyod Mascarenhas', 'CS', 'web_design', 'updates'),\n",
       " (10, 'Roshaun Rodrigues', 'IT', 'Hardware Malfunction', 'Debugging'),\n",
       " (11, 'Russel Ambatti', 'IT', 'Hardware Malfunction', 'Debugging'),\n",
       " (12, 'Salu Bhai', 'IT', 'Hardware Malfunction', 'Debugging'),\n",
       " (13, 'P town', 'AI', 'web chatbot', 'reccomendation_system'),\n",
       " (14, 'Rajesh', 'B', 'Business analysis', 'Progress Ideas')]"
      ]
     },
     "execution_count": 61,
     "metadata": {},
     "output_type": "execute_result"
    }
   ],
   "source": [
    "# Here the 15th record is deleted becoz its not present in one table \n",
    "return_result( 'select d.EmployeeId, d.Name, d.Department, w.Applications_created, w.Current_Assignment from employee_details as d inner join employee_work as w where d.EmployeeId=w.ID')"
   ]
  },
  {
   "cell_type": "markdown",
   "id": "a740587b",
   "metadata": {},
   "source": [
    "### right join "
   ]
  },
  {
   "cell_type": "code",
   "execution_count": 62,
   "id": "30143276",
   "metadata": {},
   "outputs": [
    {
     "name": "stdout",
     "output_type": "stream",
     "text": [
      "(1, 'Anthony Rodrigues', datetime.date(2006, 2, 8), 17, 'M', 'AI', 8.0, 200000.0, 'BOSTON')\n",
      "(2, 'Mark Rodrigues', datetime.date(2004, 1, 26), 19, 'M', 'CS', 8.0, 179000.0, 'BOSTON')\n",
      "(3, 'Leslie Rodrigues', datetime.date(2004, 8, 29), 21, 'M', 'CS', 7.0, 170000.0, 'BOSTON')\n",
      "(4, 'Caleb Rodrigues', datetime.date(2013, 12, 28), 10, 'M', 'CS', 3.0, 130000.0, 'OHIO')\n",
      "(5, 'Valencio Rodrigues', datetime.date(2001, 4, 12), 22, 'M', 'B', 5.0, 205000.0, 'BOSTON')\n",
      "(6, 'Vanessa Rodrigues', datetime.date(2000, 1, 27), 23, 'F', 'FD', 4.0, 150000.0, 'WASHINGTON')\n",
      "(7, 'Sharon Mascarenhas', datetime.date(2004, 8, 3), 19, 'F', 'CS', 4.0, 132000.0, 'VEGAS')\n",
      "(8, 'Steven Mascarenhas', datetime.date(2008, 7, 26), 15, 'M', 'CS', 2.0, 114000.0, 'OHIO')\n",
      "(9, 'Llyod Mascarenhas', datetime.date(2020, 11, 27), 3, 'M', 'CS', 2.0, 75000.0, 'WASHINGTON')\n",
      "(10, 'Roshaun Rodrigues', datetime.date(2003, 8, 19), 20, 'M', 'IT', 3.0, 159000.0, 'VEGAS')\n",
      "(11, 'Russel Ambatti', datetime.date(2006, 6, 7), 17, 'M', 'IT', 1.0, 62000.0, 'OHIO')\n",
      "(12, 'Salu Bhai', datetime.date(1999, 6, 25), 53, 'M', 'IT', 7.0, 57000.0, 'SEATTLE')\n",
      "(13, 'P town', datetime.date(2009, 6, 10), 24, 'M', 'AI', 5.0, 170000.0, 'VEGAS')\n",
      "(14, 'Rajesh', datetime.date(2013, 9, 18), 29, 'F', 'B', 8.0, 84000.0, 'SEATTLE')\n",
      "(15, 'Bimles', datetime.date(2006, 9, 18), 59, 'F', 'FD', 6.0, 73327.8, 'WASHINGTON')\n"
     ]
    }
   ],
   "source": [
    "res = return_result( 'select * from employee_details')\n",
    "for i in res:\n",
    "    print(i)"
   ]
  },
  {
   "cell_type": "code",
   "execution_count": 63,
   "id": "dbfd6e51",
   "metadata": {},
   "outputs": [
    {
     "name": "stdout",
     "output_type": "stream",
     "text": [
      "(1, 'Anthony Rodrigues', 'web chatbot', 'recommendation_system')\n",
      "(2, 'Mark Rodrigues', 'web_backend', 'software updates')\n",
      "(3, 'Leslie Rodrigues', 'web_design', 'updates')\n",
      "(4, 'Caleb Rodrigues', 'web_design', 'additional tools')\n",
      "(5, 'Valencio Rodrigues', 'Business analysis', 'Progress Ideas')\n",
      "(6, 'Vanessa Rodrigues', 'Model fashion design', '')\n",
      "(7, 'Sharon Mascarenhas', 'web_design', 'additional')\n",
      "(8, 'Steven Mascarenhas', 'web_backend', 'software updates')\n",
      "(9, 'Llyod Mascarenhas', 'web_design', 'updates')\n",
      "(10, 'Roshaun Rodrigues', 'Hardware Malfunction', 'Debugging')\n",
      "(11, 'Russel Ambatti', 'Hardware Malfunction', 'Debugging')\n",
      "(12, 'Salu Bhai', 'Hardware Malfunction', 'Debugging')\n",
      "(13, 'P town', 'web chatbot', 'reccomendation_system')\n",
      "(14, 'Rajesh', 'Business analysis', 'Progress Ideas')\n"
     ]
    }
   ],
   "source": [
    "#here the 15th record is deleted bcz the table in the right does not have 15th record even if the left table does\n",
    "# it shows even if its null  \n",
    "res = return_result('select Id, Name, Applications_created, Current_Assignment from employee_details as d right join employee_work as w on d.EmployeeId = w.ID')\n",
    "for i in res:\n",
    "    print(i)"
   ]
  },
  {
   "cell_type": "markdown",
   "id": "dc4d9199",
   "metadata": {},
   "source": [
    "### left join"
   ]
  },
  {
   "cell_type": "markdown",
   "id": "dfe6fb2d",
   "metadata": {},
   "source": [
    "### delete statement\n",
    "delete records falling under specific condition"
   ]
  },
  {
   "cell_type": "code",
   "execution_count": 64,
   "id": "03a20279",
   "metadata": {
    "scrolled": true
   },
   "outputs": [
    {
     "name": "stdout",
     "output_type": "stream",
     "text": [
      "Query executed successfully\n"
     ]
    }
   ],
   "source": [
    "execute_query('Delete from employee_details where Name = \"Russel Ambatti\"')"
   ]
  },
  {
   "cell_type": "code",
   "execution_count": 65,
   "id": "73e43ebf",
   "metadata": {},
   "outputs": [
    {
     "name": "stdout",
     "output_type": "stream",
     "text": [
      "(1, 'web chatbot', 'recommendation_system')\n",
      "(2, 'web_backend', 'software updates')\n",
      "(3, 'web_design', 'updates')\n",
      "(4, 'web_design', 'additional tools')\n",
      "(5, 'Business analysis', 'Progress Ideas')\n",
      "(6, 'Model fashion design', '')\n",
      "(7, 'web_design', 'additional')\n",
      "(8, 'web_backend', 'software updates')\n",
      "(9, 'web_design', 'updates')\n",
      "(10, 'Hardware Malfunction', 'Debugging')\n",
      "(11, 'Hardware Malfunction', 'Debugging')\n",
      "(12, 'Hardware Malfunction', 'Debugging')\n",
      "(13, 'web chatbot', 'reccomendation_system')\n",
      "(14, 'Business analysis', 'Progress Ideas')\n"
     ]
    }
   ],
   "source": [
    "res = return_result( 'select * from employee_work')\n",
    "for i in res:\n",
    "    print(i)"
   ]
  },
  {
   "cell_type": "markdown",
   "id": "ca9bde04",
   "metadata": {},
   "source": [
    "### here the 11th record is deleted bcz the table the left does not have 11th record even if the right table does it shows even if its null "
   ]
  },
  {
   "cell_type": "code",
   "execution_count": 66,
   "id": "6aeb2a6b",
   "metadata": {},
   "outputs": [
    {
     "name": "stdout",
     "output_type": "stream",
     "text": [
      "(1, 'Anthony Rodrigues', 'recommendation_system')\n",
      "(2, 'Mark Rodrigues', 'software updates')\n",
      "(3, 'Leslie Rodrigues', 'updates')\n",
      "(4, 'Caleb Rodrigues', 'additional tools')\n",
      "(5, 'Valencio Rodrigues', 'Progress Ideas')\n",
      "(6, 'Vanessa Rodrigues', '')\n",
      "(7, 'Sharon Mascarenhas', 'additional')\n",
      "(8, 'Steven Mascarenhas', 'software updates')\n",
      "(9, 'Llyod Mascarenhas', 'updates')\n",
      "(10, 'Roshaun Rodrigues', 'Debugging')\n",
      "(12, 'Salu Bhai', 'Debugging')\n",
      "(13, 'P town', 'reccomendation_system')\n",
      "(14, 'Rajesh', 'Progress Ideas')\n",
      "(None, 'Bimles', None)\n"
     ]
    }
   ],
   "source": [
    "\n",
    "res = return_result('select Id, Name, Current_Assignment from employee_details as d left join  employee_work as w on d.EmployeeId = w.ID')\n",
    "for i in res:\n",
    "    print(i)"
   ]
  },
  {
   "cell_type": "markdown",
   "id": "8577d013",
   "metadata": {},
   "source": [
    "### full join"
   ]
  },
  {
   "cell_type": "markdown",
   "id": "f5987e53",
   "metadata": {},
   "source": [
    "### whichever records are deleted are shown as None/Null if for the same record data is present in other table itll  be shown\n"
   ]
  },
  {
   "cell_type": "code",
   "execution_count": 67,
   "id": "67940046",
   "metadata": {},
   "outputs": [
    {
     "name": "stdout",
     "output_type": "stream",
     "text": [
      "(1, 'Anthony Rodrigues', 'recommendation_system')\n",
      "(2, 'Mark Rodrigues', 'software updates')\n",
      "(3, 'Leslie Rodrigues', 'updates')\n",
      "(4, 'Caleb Rodrigues', 'additional tools')\n",
      "(5, 'Valencio Rodrigues', 'Progress Ideas')\n",
      "(6, 'Vanessa Rodrigues', '')\n",
      "(7, 'Sharon Mascarenhas', 'additional')\n",
      "(8, 'Steven Mascarenhas', 'software updates')\n",
      "(9, 'Llyod Mascarenhas', 'updates')\n",
      "(10, 'Roshaun Rodrigues', 'Debugging')\n",
      "(None, None, 'Debugging')\n",
      "(12, 'Salu Bhai', 'Debugging')\n",
      "(13, 'P town', 'reccomendation_system')\n",
      "(14, 'Rajesh', 'Progress Ideas')\n",
      "(15, 'Bimles', None)\n"
     ]
    }
   ],
   "source": [
    "res = return_result( 'select d.EmployeeId, d.Name, w.Current_Assignment from employee_details as d right join employee_work as w on d.EmployeeId = w.ID union select EmployeeId, Name, w.Current_Assignment from employee_details as d left join employee_work as w on d.EmployeeId = w.ID')\n",
    "for i in res:\n",
    "    print(i)"
   ]
  },
  {
   "cell_type": "markdown",
   "id": "4fa76b9c",
   "metadata": {},
   "source": [
    "### Update and Delete using joins (Remember these statements will execute as per join, if inner join record will be updated/deleted only if present in both tables similary right/left join if present in right/left table  )\n"
   ]
  },
  {
   "cell_type": "code",
   "execution_count": 68,
   "id": "f12479b0",
   "metadata": {},
   "outputs": [
    {
     "name": "stdout",
     "output_type": "stream",
     "text": [
      "Query executed successfully\n"
     ]
    }
   ],
   "source": [
    "execute_query( \"update employee_details inner join employee_work on employee_details.EmployeeId = employee_work.Id set Salary = Salary * 1.25 where Department != 'FD' \")"
   ]
  },
  {
   "cell_type": "code",
   "execution_count": 69,
   "id": "a79acf98",
   "metadata": {},
   "outputs": [
    {
     "name": "stdout",
     "output_type": "stream",
     "text": [
      "(1, 'Anthony Rodrigues', datetime.date(2006, 2, 8), 17, 'M', 'AI', 8.0, 250000.0, 'BOSTON')\n",
      "(2, 'Mark Rodrigues', datetime.date(2004, 1, 26), 19, 'M', 'CS', 8.0, 223750.0, 'BOSTON')\n",
      "(3, 'Leslie Rodrigues', datetime.date(2004, 8, 29), 21, 'M', 'CS', 7.0, 212500.0, 'BOSTON')\n",
      "(4, 'Caleb Rodrigues', datetime.date(2013, 12, 28), 10, 'M', 'CS', 3.0, 162500.0, 'OHIO')\n",
      "(5, 'Valencio Rodrigues', datetime.date(2001, 4, 12), 22, 'M', 'B', 5.0, 256250.0, 'BOSTON')\n",
      "(6, 'Vanessa Rodrigues', datetime.date(2000, 1, 27), 23, 'F', 'FD', 4.0, 150000.0, 'WASHINGTON')\n",
      "(7, 'Sharon Mascarenhas', datetime.date(2004, 8, 3), 19, 'F', 'CS', 4.0, 165000.0, 'VEGAS')\n",
      "(8, 'Steven Mascarenhas', datetime.date(2008, 7, 26), 15, 'M', 'CS', 2.0, 142500.0, 'OHIO')\n",
      "(9, 'Llyod Mascarenhas', datetime.date(2020, 11, 27), 3, 'M', 'CS', 2.0, 93750.0, 'WASHINGTON')\n",
      "(10, 'Roshaun Rodrigues', datetime.date(2003, 8, 19), 20, 'M', 'IT', 3.0, 198750.0, 'VEGAS')\n",
      "(12, 'Salu Bhai', datetime.date(1999, 6, 25), 53, 'M', 'IT', 7.0, 71250.0, 'SEATTLE')\n",
      "(13, 'P town', datetime.date(2009, 6, 10), 24, 'M', 'AI', 5.0, 212500.0, 'VEGAS')\n",
      "(14, 'Rajesh', datetime.date(2013, 9, 18), 29, 'F', 'B', 8.0, 105000.0, 'SEATTLE')\n",
      "(15, 'Bimles', datetime.date(2006, 9, 18), 59, 'F', 'FD', 6.0, 73327.8, 'WASHINGTON')\n"
     ]
    }
   ],
   "source": [
    "res = return_result( 'select * from employee_details')\n",
    "for i in res:\n",
    "    print(i)"
   ]
  },
  {
   "cell_type": "code",
   "execution_count": 70,
   "id": "62450fd7",
   "metadata": {
    "scrolled": false
   },
   "outputs": [
    {
     "name": "stdout",
     "output_type": "stream",
     "text": [
      "Query executed successfully\n"
     ]
    }
   ],
   "source": [
    "execute_query( \"delete employee_details, employee_work from employee_details inner join employee_work on employee_details.EmployeeId = employee_work.Id where Department = 'FD'  \")"
   ]
  },
  {
   "cell_type": "markdown",
   "id": "31272399",
   "metadata": {},
   "source": [
    "### here the 6th records is deleted and 15th rec is not deleted bcz its is not present in one table so the id  doesnt match so left there"
   ]
  },
  {
   "cell_type": "code",
   "execution_count": 71,
   "id": "96c04c74",
   "metadata": {
    "scrolled": true
   },
   "outputs": [
    {
     "name": "stdout",
     "output_type": "stream",
     "text": [
      "(1, 'Anthony Rodrigues', datetime.date(2006, 2, 8), 17, 'M', 'AI', 8.0, 250000.0, 'BOSTON')\n",
      "(2, 'Mark Rodrigues', datetime.date(2004, 1, 26), 19, 'M', 'CS', 8.0, 223750.0, 'BOSTON')\n",
      "(3, 'Leslie Rodrigues', datetime.date(2004, 8, 29), 21, 'M', 'CS', 7.0, 212500.0, 'BOSTON')\n",
      "(4, 'Caleb Rodrigues', datetime.date(2013, 12, 28), 10, 'M', 'CS', 3.0, 162500.0, 'OHIO')\n",
      "(5, 'Valencio Rodrigues', datetime.date(2001, 4, 12), 22, 'M', 'B', 5.0, 256250.0, 'BOSTON')\n",
      "(7, 'Sharon Mascarenhas', datetime.date(2004, 8, 3), 19, 'F', 'CS', 4.0, 165000.0, 'VEGAS')\n",
      "(8, 'Steven Mascarenhas', datetime.date(2008, 7, 26), 15, 'M', 'CS', 2.0, 142500.0, 'OHIO')\n",
      "(9, 'Llyod Mascarenhas', datetime.date(2020, 11, 27), 3, 'M', 'CS', 2.0, 93750.0, 'WASHINGTON')\n",
      "(10, 'Roshaun Rodrigues', datetime.date(2003, 8, 19), 20, 'M', 'IT', 3.0, 198750.0, 'VEGAS')\n",
      "(12, 'Salu Bhai', datetime.date(1999, 6, 25), 53, 'M', 'IT', 7.0, 71250.0, 'SEATTLE')\n",
      "(13, 'P town', datetime.date(2009, 6, 10), 24, 'M', 'AI', 5.0, 212500.0, 'VEGAS')\n",
      "(14, 'Rajesh', datetime.date(2013, 9, 18), 29, 'F', 'B', 8.0, 105000.0, 'SEATTLE')\n",
      "(15, 'Bimles', datetime.date(2006, 9, 18), 59, 'F', 'FD', 6.0, 73327.8, 'WASHINGTON')\n"
     ]
    }
   ],
   "source": [
    "res = return_result( 'select * from employee_details')\n",
    "for i in res:\n",
    "    print(i)"
   ]
  },
  {
   "cell_type": "markdown",
   "id": "da90fe17",
   "metadata": {},
   "source": [
    "### union operator\n",
    "shows only unique records i.e even if one record is different itll show the rec"
   ]
  },
  {
   "cell_type": "code",
   "execution_count": 72,
   "id": "3e22f74a",
   "metadata": {},
   "outputs": [
    {
     "name": "stdout",
     "output_type": "stream",
     "text": [
      "Query executed successfully\n"
     ]
    }
   ],
   "source": [
    "execute_query( 'drop table emp2')"
   ]
  },
  {
   "cell_type": "code",
   "execution_count": 73,
   "id": "424998d9",
   "metadata": {},
   "outputs": [
    {
     "name": "stdout",
     "output_type": "stream",
     "text": [
      "Query executed successfully\n"
     ]
    }
   ],
   "source": [
    "tab3 = \"\"\"create table emp2(Employee_id int primary key,\n",
    "Name varchar(20),\n",
    "D_O_J date, \n",
    "Age int, \n",
    "Gender char(1),\n",
    "Dept varchar(10), \n",
    "Exp float, \n",
    "Sal float,\n",
    "City varchar(20));\"\"\"\n",
    "\n",
    "execute_query( tab3)"
   ]
  },
  {
   "cell_type": "code",
   "execution_count": 74,
   "id": "abe89a5b",
   "metadata": {},
   "outputs": [
    {
     "name": "stdout",
     "output_type": "stream",
     "text": [
      "Query executed successfully\n"
     ]
    }
   ],
   "source": [
    "insert_tab3= \"\"\" insert into emp2(Employee_id, Name, D_O_J, Age, Gender, Dept, Exp, Sal, City)\n",
    "values (1, 'Anthony Rodrigues', '2006-02-08', 17, 'M', 'AI', 8.0, 250000.0, 'BOSTON')\n",
    ",(2, 'Mark Rodrigues','2004-01-26', 19, 'M', 'CS', 8.0, 223750.0, 'BOSTON')\n",
    ",(3, 'Leslie Rodrigues','2002-08-29', 21, 'M', 'CS', 7.0, 212500.0, 'BOSTON')\n",
    ",(4, 'Caleb Rodrigues','2013-12-28', 10, 'M', 'CS', 3.0, 162500.0, 'OHIO')\n",
    ",(5, 'Valencio Rodrigues','2001-04-12', 22, 'M', 'B', 5.0, 256250.0, 'BOSTON')\n",
    ",(7, 'Sharon Mascarenhas','2004-08-03', 19, 'F', 'CS', 4.0, 165000.0, 'VEGAS')\n",
    ",(8, 'Steven Mascarenhas','2008-07-26', 15, 'M', 'CS', 2.0, 142500.0, 'OHIO')\n",
    ",(9, 'Llyod Mascarenhas','2020-11-27', 3, 'M', 'CS', 2.0, 93750.0, 'WASHINGTON')\n",
    ",(10, 'Roshaun Rodrigues','2003-08-19', 20, 'M', 'IT', 3.0, 198750.0, 'VEGAS')\n",
    ",(11, 'Raju Singh','2006-08-02','17','M','IT','8','100000','BOSTON')\n",
    ",(12, 'Kaju Singh','2006-08-02','17','M','IT','8','100000','BOSTON')\"\"\"\n",
    "\n",
    "execute_query( insert_tab3)"
   ]
  },
  {
   "cell_type": "code",
   "execution_count": 75,
   "id": "5bb0e197",
   "metadata": {},
   "outputs": [
    {
     "name": "stdout",
     "output_type": "stream",
     "text": [
      "Error: 1062 (23000): Duplicate entry '1' for key 'emp2.PRIMARY'\n"
     ]
    }
   ],
   "source": [
    "insert2_tab3= \"\"\" insert into emp2(Employee_id Name, D_O_J,  Age, Gender, Dept, Exp, Sal, City)\n",
    "values(11'Raju Singh','2006-08-02','17','M','IT','8','100000','BOSTON');\"\"\"\n",
    "\n",
    "execute_query( insert_tab3)"
   ]
  },
  {
   "cell_type": "code",
   "execution_count": 76,
   "id": "25d9cd39",
   "metadata": {},
   "outputs": [
    {
     "name": "stdout",
     "output_type": "stream",
     "text": [
      "(1, 'Anthony Rodrigues', datetime.date(2006, 2, 8), 17, 'M', 'AI', 8.0, 250000.0, 'BOSTON')\n",
      "(2, 'Mark Rodrigues', datetime.date(2004, 1, 26), 19, 'M', 'CS', 8.0, 223750.0, 'BOSTON')\n",
      "(3, 'Leslie Rodrigues', datetime.date(2002, 8, 29), 21, 'M', 'CS', 7.0, 212500.0, 'BOSTON')\n",
      "(4, 'Caleb Rodrigues', datetime.date(2013, 12, 28), 10, 'M', 'CS', 3.0, 162500.0, 'OHIO')\n",
      "(5, 'Valencio Rodrigues', datetime.date(2001, 4, 12), 22, 'M', 'B', 5.0, 256250.0, 'BOSTON')\n",
      "(7, 'Sharon Mascarenhas', datetime.date(2004, 8, 3), 19, 'F', 'CS', 4.0, 165000.0, 'VEGAS')\n",
      "(8, 'Steven Mascarenhas', datetime.date(2008, 7, 26), 15, 'M', 'CS', 2.0, 142500.0, 'OHIO')\n",
      "(9, 'Llyod Mascarenhas', datetime.date(2020, 11, 27), 3, 'M', 'CS', 2.0, 93750.0, 'WASHINGTON')\n",
      "(10, 'Roshaun Rodrigues', datetime.date(2003, 8, 19), 20, 'M', 'IT', 3.0, 198750.0, 'VEGAS')\n",
      "(11, 'Raju Singh', datetime.date(2006, 8, 2), 17, 'M', 'IT', 8.0, 100000.0, 'BOSTON')\n",
      "(12, 'Kaju Singh', datetime.date(2006, 8, 2), 17, 'M', 'IT', 8.0, 100000.0, 'BOSTON')\n"
     ]
    }
   ],
   "source": [
    "res = return_result( 'select * from emp2')\n",
    "for i in res:\n",
    "    print(i)"
   ]
  },
  {
   "cell_type": "code",
   "execution_count": 77,
   "id": "2c0f24d3",
   "metadata": {},
   "outputs": [
    {
     "name": "stdout",
     "output_type": "stream",
     "text": [
      "(1, 'Anthony Rodrigues', datetime.date(2006, 2, 8), 17, 'M', 'AI', 8.0, 250000.0, 'BOSTON')\n",
      "(2, 'Mark Rodrigues', datetime.date(2004, 1, 26), 19, 'M', 'CS', 8.0, 223750.0, 'BOSTON')\n",
      "(3, 'Leslie Rodrigues', datetime.date(2004, 8, 29), 21, 'M', 'CS', 7.0, 212500.0, 'BOSTON')\n",
      "(4, 'Caleb Rodrigues', datetime.date(2013, 12, 28), 10, 'M', 'CS', 3.0, 162500.0, 'OHIO')\n",
      "(5, 'Valencio Rodrigues', datetime.date(2001, 4, 12), 22, 'M', 'B', 5.0, 256250.0, 'BOSTON')\n",
      "(7, 'Sharon Mascarenhas', datetime.date(2004, 8, 3), 19, 'F', 'CS', 4.0, 165000.0, 'VEGAS')\n",
      "(8, 'Steven Mascarenhas', datetime.date(2008, 7, 26), 15, 'M', 'CS', 2.0, 142500.0, 'OHIO')\n",
      "(9, 'Llyod Mascarenhas', datetime.date(2020, 11, 27), 3, 'M', 'CS', 2.0, 93750.0, 'WASHINGTON')\n",
      "(10, 'Roshaun Rodrigues', datetime.date(2003, 8, 19), 20, 'M', 'IT', 3.0, 198750.0, 'VEGAS')\n",
      "(12, 'Salu Bhai', datetime.date(1999, 6, 25), 53, 'M', 'IT', 7.0, 71250.0, 'SEATTLE')\n",
      "(13, 'P town', datetime.date(2009, 6, 10), 24, 'M', 'AI', 5.0, 212500.0, 'VEGAS')\n",
      "(14, 'Rajesh', datetime.date(2013, 9, 18), 29, 'F', 'B', 8.0, 105000.0, 'SEATTLE')\n",
      "(15, 'Bimles', datetime.date(2006, 9, 18), 59, 'F', 'FD', 6.0, 73327.8, 'WASHINGTON')\n",
      "(3, 'Leslie Rodrigues', datetime.date(2002, 8, 29), 21, 'M', 'CS', 7.0, 212500.0, 'BOSTON')\n",
      "(11, 'Raju Singh', datetime.date(2006, 8, 2), 17, 'M', 'IT', 8.0, 100000.0, 'BOSTON')\n",
      "(12, 'Kaju Singh', datetime.date(2006, 8, 2), 17, 'M', 'IT', 8.0, 100000.0, 'BOSTON')\n"
     ]
    }
   ],
   "source": [
    "#which ever records are entirely same i.e. first 10 are shown only once the others are unique so they are shown\n",
    "res = return_result( 'select * from employee_details union select * from emp2;')\n",
    "for i in res:\n",
    "    print(i)"
   ]
  },
  {
   "cell_type": "markdown",
   "id": "96425640",
   "metadata": {},
   "source": [
    "### union all operator\n",
    "shows all records whether duplicate or not "
   ]
  },
  {
   "cell_type": "code",
   "execution_count": 78,
   "id": "2e078e4f",
   "metadata": {},
   "outputs": [
    {
     "name": "stdout",
     "output_type": "stream",
     "text": [
      "(1, 'Anthony Rodrigues', datetime.date(2006, 2, 8), 17, 'M', 'AI', 8.0, 250000.0, 'BOSTON')\n",
      "(2, 'Mark Rodrigues', datetime.date(2004, 1, 26), 19, 'M', 'CS', 8.0, 223750.0, 'BOSTON')\n",
      "(3, 'Leslie Rodrigues', datetime.date(2004, 8, 29), 21, 'M', 'CS', 7.0, 212500.0, 'BOSTON')\n",
      "(4, 'Caleb Rodrigues', datetime.date(2013, 12, 28), 10, 'M', 'CS', 3.0, 162500.0, 'OHIO')\n",
      "(5, 'Valencio Rodrigues', datetime.date(2001, 4, 12), 22, 'M', 'B', 5.0, 256250.0, 'BOSTON')\n",
      "(7, 'Sharon Mascarenhas', datetime.date(2004, 8, 3), 19, 'F', 'CS', 4.0, 165000.0, 'VEGAS')\n",
      "(8, 'Steven Mascarenhas', datetime.date(2008, 7, 26), 15, 'M', 'CS', 2.0, 142500.0, 'OHIO')\n",
      "(9, 'Llyod Mascarenhas', datetime.date(2020, 11, 27), 3, 'M', 'CS', 2.0, 93750.0, 'WASHINGTON')\n",
      "(10, 'Roshaun Rodrigues', datetime.date(2003, 8, 19), 20, 'M', 'IT', 3.0, 198750.0, 'VEGAS')\n",
      "(12, 'Salu Bhai', datetime.date(1999, 6, 25), 53, 'M', 'IT', 7.0, 71250.0, 'SEATTLE')\n",
      "(13, 'P town', datetime.date(2009, 6, 10), 24, 'M', 'AI', 5.0, 212500.0, 'VEGAS')\n",
      "(14, 'Rajesh', datetime.date(2013, 9, 18), 29, 'F', 'B', 8.0, 105000.0, 'SEATTLE')\n",
      "(15, 'Bimles', datetime.date(2006, 9, 18), 59, 'F', 'FD', 6.0, 73327.8, 'WASHINGTON')\n",
      "(1, 'Anthony Rodrigues', datetime.date(2006, 2, 8), 17, 'M', 'AI', 8.0, 250000.0, 'BOSTON')\n",
      "(2, 'Mark Rodrigues', datetime.date(2004, 1, 26), 19, 'M', 'CS', 8.0, 223750.0, 'BOSTON')\n",
      "(3, 'Leslie Rodrigues', datetime.date(2002, 8, 29), 21, 'M', 'CS', 7.0, 212500.0, 'BOSTON')\n",
      "(4, 'Caleb Rodrigues', datetime.date(2013, 12, 28), 10, 'M', 'CS', 3.0, 162500.0, 'OHIO')\n",
      "(5, 'Valencio Rodrigues', datetime.date(2001, 4, 12), 22, 'M', 'B', 5.0, 256250.0, 'BOSTON')\n",
      "(7, 'Sharon Mascarenhas', datetime.date(2004, 8, 3), 19, 'F', 'CS', 4.0, 165000.0, 'VEGAS')\n",
      "(8, 'Steven Mascarenhas', datetime.date(2008, 7, 26), 15, 'M', 'CS', 2.0, 142500.0, 'OHIO')\n",
      "(9, 'Llyod Mascarenhas', datetime.date(2020, 11, 27), 3, 'M', 'CS', 2.0, 93750.0, 'WASHINGTON')\n",
      "(10, 'Roshaun Rodrigues', datetime.date(2003, 8, 19), 20, 'M', 'IT', 3.0, 198750.0, 'VEGAS')\n",
      "(11, 'Raju Singh', datetime.date(2006, 8, 2), 17, 'M', 'IT', 8.0, 100000.0, 'BOSTON')\n",
      "(12, 'Kaju Singh', datetime.date(2006, 8, 2), 17, 'M', 'IT', 8.0, 100000.0, 'BOSTON')\n"
     ]
    }
   ],
   "source": [
    "#here records are shown without any looking into it\n",
    "res = return_result( 'select * from employee_details union all select * from emp2;')\n",
    "for i in res:\n",
    "    print(i)"
   ]
  },
  {
   "cell_type": "code",
   "execution_count": 79,
   "id": "ed748fe2",
   "metadata": {},
   "outputs": [
    {
     "name": "stdout",
     "output_type": "stream",
     "text": [
      "Query executed successfully\n"
     ]
    }
   ],
   "source": [
    "execute_query('update emp2 set Sal = Sal *1.2 ')"
   ]
  },
  {
   "cell_type": "markdown",
   "id": "2ba03d78",
   "metadata": {},
   "source": [
    "### except operator\n",
    "shows the records present in the first table and not in the second"
   ]
  },
  {
   "cell_type": "code",
   "execution_count": 80,
   "id": "32cb2179",
   "metadata": {},
   "outputs": [
    {
     "name": "stdout",
     "output_type": "stream",
     "text": [
      "(1, 'Anthony Rodrigues', datetime.date(2006, 2, 8), 17, 'M', 'AI', 8.0, 250000.0, 'BOSTON')\n",
      "(2, 'Mark Rodrigues', datetime.date(2004, 1, 26), 19, 'M', 'CS', 8.0, 223750.0, 'BOSTON')\n",
      "(3, 'Leslie Rodrigues', datetime.date(2004, 8, 29), 21, 'M', 'CS', 7.0, 212500.0, 'BOSTON')\n",
      "(4, 'Caleb Rodrigues', datetime.date(2013, 12, 28), 10, 'M', 'CS', 3.0, 162500.0, 'OHIO')\n",
      "(5, 'Valencio Rodrigues', datetime.date(2001, 4, 12), 22, 'M', 'B', 5.0, 256250.0, 'BOSTON')\n",
      "(7, 'Sharon Mascarenhas', datetime.date(2004, 8, 3), 19, 'F', 'CS', 4.0, 165000.0, 'VEGAS')\n",
      "(8, 'Steven Mascarenhas', datetime.date(2008, 7, 26), 15, 'M', 'CS', 2.0, 142500.0, 'OHIO')\n",
      "(9, 'Llyod Mascarenhas', datetime.date(2020, 11, 27), 3, 'M', 'CS', 2.0, 93750.0, 'WASHINGTON')\n",
      "(10, 'Roshaun Rodrigues', datetime.date(2003, 8, 19), 20, 'M', 'IT', 3.0, 198750.0, 'VEGAS')\n",
      "(12, 'Salu Bhai', datetime.date(1999, 6, 25), 53, 'M', 'IT', 7.0, 71250.0, 'SEATTLE')\n",
      "(13, 'P town', datetime.date(2009, 6, 10), 24, 'M', 'AI', 5.0, 212500.0, 'VEGAS')\n",
      "(14, 'Rajesh', datetime.date(2013, 9, 18), 29, 'F', 'B', 8.0, 105000.0, 'SEATTLE')\n",
      "(15, 'Bimles', datetime.date(2006, 9, 18), 59, 'F', 'FD', 6.0, 73327.8, 'WASHINGTON')\n"
     ]
    }
   ],
   "source": [
    "res = return_result( 'select * from employee_details except select * from emp2 where Dept != \"AI\";')\n",
    "#show unique only when dept != Ai if dept = Ai show even if present\n",
    "for i in res:\n",
    "    print(i)"
   ]
  },
  {
   "cell_type": "code",
   "execution_count": 81,
   "id": "bd4dda88",
   "metadata": {},
   "outputs": [
    {
     "name": "stdout",
     "output_type": "stream",
     "text": [
      "(1, 'Anthony Rodrigues', datetime.date(2006, 2, 8), 17, 'M', 'AI', 8.0, 300000.0, 'BOSTON')\n",
      "(2, 'Mark Rodrigues', datetime.date(2004, 1, 26), 19, 'M', 'CS', 8.0, 268500.0, 'BOSTON')\n",
      "(3, 'Leslie Rodrigues', datetime.date(2002, 8, 29), 21, 'M', 'CS', 7.0, 255000.0, 'BOSTON')\n",
      "(4, 'Caleb Rodrigues', datetime.date(2013, 12, 28), 10, 'M', 'CS', 3.0, 195000.0, 'OHIO')\n",
      "(5, 'Valencio Rodrigues', datetime.date(2001, 4, 12), 22, 'M', 'B', 5.0, 307500.0, 'BOSTON')\n",
      "(7, 'Sharon Mascarenhas', datetime.date(2004, 8, 3), 19, 'F', 'CS', 4.0, 198000.0, 'VEGAS')\n",
      "(8, 'Steven Mascarenhas', datetime.date(2008, 7, 26), 15, 'M', 'CS', 2.0, 171000.0, 'OHIO')\n",
      "(9, 'Llyod Mascarenhas', datetime.date(2020, 11, 27), 3, 'M', 'CS', 2.0, 112500.0, 'WASHINGTON')\n",
      "(10, 'Roshaun Rodrigues', datetime.date(2003, 8, 19), 20, 'M', 'IT', 3.0, 238500.0, 'VEGAS')\n",
      "(11, 'Raju Singh', datetime.date(2006, 8, 2), 17, 'M', 'IT', 8.0, 120000.0, 'BOSTON')\n",
      "(12, 'Kaju Singh', datetime.date(2006, 8, 2), 17, 'M', 'IT', 8.0, 120000.0, 'BOSTON')\n"
     ]
    }
   ],
   "source": [
    "res = return_result( 'select * from emp2 except select * from employee_details ')\n",
    "for i in res:\n",
    "    print(i)"
   ]
  },
  {
   "cell_type": "markdown",
   "id": "599c8453",
   "metadata": {},
   "source": [
    "### intersect operater\n",
    "shows the records present in first table which are common in the second table too"
   ]
  },
  {
   "cell_type": "code",
   "execution_count": 82,
   "id": "b185b9b9",
   "metadata": {
    "scrolled": true
   },
   "outputs": [],
   "source": [
    "res = return_result( 'select * from employee_details intersect select * from emp2 ')\n",
    "for i in res:\n",
    "    print(i)"
   ]
  },
  {
   "cell_type": "markdown",
   "id": "915e9fac",
   "metadata": {},
   "source": [
    "### as nothing is common we dont see any output"
   ]
  },
  {
   "cell_type": "code",
   "execution_count": 83,
   "id": "f822be1e",
   "metadata": {},
   "outputs": [
    {
     "name": "stdout",
     "output_type": "stream",
     "text": [
      "(1, 'Anthony Rodrigues', datetime.date(2006, 2, 8), 17, 'M', 'AI', 8.0, 250000.0, 'BOSTON')\n",
      "(2, 'Mark Rodrigues', datetime.date(2004, 1, 26), 19, 'M', 'CS', 8.0, 223750.0, 'BOSTON')\n",
      "(3, 'Leslie Rodrigues', datetime.date(2004, 8, 29), 21, 'M', 'CS', 7.0, 212500.0, 'BOSTON')\n",
      "(4, 'Caleb Rodrigues', datetime.date(2013, 12, 28), 10, 'M', 'CS', 3.0, 162500.0, 'OHIO')\n",
      "(5, 'Valencio Rodrigues', datetime.date(2001, 4, 12), 22, 'M', 'B', 5.0, 256250.0, 'BOSTON')\n",
      "(7, 'Sharon Mascarenhas', datetime.date(2004, 8, 3), 19, 'F', 'CS', 4.0, 165000.0, 'VEGAS')\n",
      "(8, 'Steven Mascarenhas', datetime.date(2008, 7, 26), 15, 'M', 'CS', 2.0, 142500.0, 'OHIO')\n",
      "(9, 'Llyod Mascarenhas', datetime.date(2020, 11, 27), 3, 'M', 'CS', 2.0, 93750.0, 'WASHINGTON')\n",
      "(10, 'Roshaun Rodrigues', datetime.date(2003, 8, 19), 20, 'M', 'IT', 3.0, 198750.0, 'VEGAS')\n",
      "(12, 'Salu Bhai', datetime.date(1999, 6, 25), 53, 'M', 'IT', 7.0, 71250.0, 'SEATTLE')\n",
      "(13, 'P town', datetime.date(2009, 6, 10), 24, 'M', 'AI', 5.0, 212500.0, 'VEGAS')\n",
      "(14, 'Rajesh', datetime.date(2013, 9, 18), 29, 'F', 'B', 8.0, 105000.0, 'SEATTLE')\n",
      "(15, 'Bimles', datetime.date(2006, 9, 18), 59, 'F', 'FD', 6.0, 73327.8, 'WASHINGTON')\n"
     ]
    }
   ],
   "source": [
    "res = return_result('select * from employee_details')\n",
    "for i in res:\n",
    "    print(i)"
   ]
  },
  {
   "cell_type": "markdown",
   "id": "358c73c0",
   "metadata": {},
   "source": [
    "### views\n",
    "a virtual table based on the result-set of an SQL statement."
   ]
  },
  {
   "cell_type": "code",
   "execution_count": 84,
   "id": "ea17a4ae",
   "metadata": {},
   "outputs": [
    {
     "name": "stdout",
     "output_type": "stream",
     "text": [
      "Query executed successfully\n"
     ]
    }
   ],
   "source": [
    "execute_query('create view Emp_New as select Name,City from employee_details')"
   ]
  },
  {
   "cell_type": "markdown",
   "id": "55ad1071",
   "metadata": {},
   "source": [
    "#### viewing views"
   ]
  },
  {
   "cell_type": "code",
   "execution_count": 85,
   "id": "6629caf3",
   "metadata": {},
   "outputs": [
    {
     "name": "stdout",
     "output_type": "stream",
     "text": [
      "('emp_new', 'VIEW')\n",
      "('work_details', 'VIEW')\n"
     ]
    }
   ],
   "source": [
    "res = return_result( 'show full tables where table_type = \"VIEW\" ')\n",
    "for i in res:\n",
    "    print(i)"
   ]
  },
  {
   "cell_type": "code",
   "execution_count": 86,
   "id": "30b47ca5",
   "metadata": {},
   "outputs": [
    {
     "name": "stdout",
     "output_type": "stream",
     "text": [
      "('Anthony Rodrigues', 'BOSTON')\n",
      "('Mark Rodrigues', 'BOSTON')\n",
      "('Leslie Rodrigues', 'BOSTON')\n",
      "('Caleb Rodrigues', 'OHIO')\n",
      "('Valencio Rodrigues', 'BOSTON')\n",
      "('Sharon Mascarenhas', 'VEGAS')\n",
      "('Steven Mascarenhas', 'OHIO')\n",
      "('Llyod Mascarenhas', 'WASHINGTON')\n",
      "('Roshaun Rodrigues', 'VEGAS')\n",
      "('Salu Bhai', 'SEATTLE')\n",
      "('P town', 'VEGAS')\n",
      "('Rajesh', 'SEATTLE')\n",
      "('Bimles', 'WASHINGTON')\n"
     ]
    }
   ],
   "source": [
    "res = return_result( 'select * from emp_NEW ')\n",
    "for i in res:\n",
    "    print(i)"
   ]
  },
  {
   "cell_type": "code",
   "execution_count": 87,
   "id": "e4af3d12",
   "metadata": {
    "scrolled": true
   },
   "outputs": [
    {
     "name": "stdout",
     "output_type": "stream",
     "text": [
      "Error: 1050 (42S01): Table 'work_details' already exists\n"
     ]
    }
   ],
   "source": [
    "execute_query('create view work_details as select EmployeeId, Name, D_O_J, Age, Gender, Department, Experience, Salary, City, Applications_created, Current_Assignment from employee_details inner join employee_work where employee_details.EmployeeId = employee_work.Id')"
   ]
  },
  {
   "cell_type": "code",
   "execution_count": 88,
   "id": "d9fe4e45",
   "metadata": {
    "scrolled": true
   },
   "outputs": [
    {
     "name": "stdout",
     "output_type": "stream",
     "text": [
      "(1, 'Anthony Rodrigues', datetime.date(2006, 2, 8), 17, 'M', 'AI', 8.0, 250000.0, 'BOSTON', 'web chatbot', 'recommendation_system')\n",
      "(2, 'Mark Rodrigues', datetime.date(2004, 1, 26), 19, 'M', 'CS', 8.0, 223750.0, 'BOSTON', 'web_backend', 'software updates')\n",
      "(3, 'Leslie Rodrigues', datetime.date(2004, 8, 29), 21, 'M', 'CS', 7.0, 212500.0, 'BOSTON', 'web_design', 'updates')\n",
      "(4, 'Caleb Rodrigues', datetime.date(2013, 12, 28), 10, 'M', 'CS', 3.0, 162500.0, 'OHIO', 'web_design', 'additional tools')\n",
      "(5, 'Valencio Rodrigues', datetime.date(2001, 4, 12), 22, 'M', 'B', 5.0, 256250.0, 'BOSTON', 'Business analysis', 'Progress Ideas')\n",
      "(7, 'Sharon Mascarenhas', datetime.date(2004, 8, 3), 19, 'F', 'CS', 4.0, 165000.0, 'VEGAS', 'web_design', 'additional')\n",
      "(8, 'Steven Mascarenhas', datetime.date(2008, 7, 26), 15, 'M', 'CS', 2.0, 142500.0, 'OHIO', 'web_backend', 'software updates')\n",
      "(9, 'Llyod Mascarenhas', datetime.date(2020, 11, 27), 3, 'M', 'CS', 2.0, 93750.0, 'WASHINGTON', 'web_design', 'updates')\n",
      "(10, 'Roshaun Rodrigues', datetime.date(2003, 8, 19), 20, 'M', 'IT', 3.0, 198750.0, 'VEGAS', 'Hardware Malfunction', 'Debugging')\n",
      "(12, 'Salu Bhai', datetime.date(1999, 6, 25), 53, 'M', 'IT', 7.0, 71250.0, 'SEATTLE', 'Hardware Malfunction', 'Debugging')\n",
      "(13, 'P town', datetime.date(2009, 6, 10), 24, 'M', 'AI', 5.0, 212500.0, 'VEGAS', 'web chatbot', 'reccomendation_system')\n",
      "(14, 'Rajesh', datetime.date(2013, 9, 18), 29, 'F', 'B', 8.0, 105000.0, 'SEATTLE', 'Business analysis', 'Progress Ideas')\n"
     ]
    }
   ],
   "source": [
    "res = return_result( 'select * from  work_details')\n",
    "for i in res:\n",
    "    print(i)"
   ]
  },
  {
   "cell_type": "markdown",
   "id": "8fc580ea",
   "metadata": {},
   "source": [
    "### renaming tables/views"
   ]
  },
  {
   "cell_type": "code",
   "execution_count": 89,
   "id": "a9669604",
   "metadata": {},
   "outputs": [
    {
     "name": "stdout",
     "output_type": "stream",
     "text": [
      "Query executed successfully\n"
     ]
    }
   ],
   "source": [
    "execute_query('rename table emp_new to emp_new1')"
   ]
  },
  {
   "cell_type": "markdown",
   "id": "88ba9b99",
   "metadata": {},
   "source": [
    "### deleting views"
   ]
  },
  {
   "cell_type": "code",
   "execution_count": 90,
   "id": "1b5e0387",
   "metadata": {},
   "outputs": [
    {
     "name": "stdout",
     "output_type": "stream",
     "text": [
      "Query executed successfully\n"
     ]
    }
   ],
   "source": [
    "execute_query('drop view emp_new1')"
   ]
  },
  {
   "cell_type": "markdown",
   "id": "0bbd7abe",
   "metadata": {},
   "source": [
    "### alter table\n",
    "used to add delete and modify existing cols"
   ]
  },
  {
   "cell_type": "code",
   "execution_count": 91,
   "id": "c874b389",
   "metadata": {},
   "outputs": [
    {
     "data": {
      "text/plain": [
       "[('emp2',),\n",
       " ('employee',),\n",
       " ('employee_details',),\n",
       " ('employee_work',),\n",
       " ('entries',),\n",
       " ('position_',),\n",
       " ('records',),\n",
       " ('work_details',)]"
      ]
     },
     "execution_count": 91,
     "metadata": {},
     "output_type": "execute_result"
    }
   ],
   "source": [
    "return_result( 'show tables')"
   ]
  },
  {
   "cell_type": "markdown",
   "id": "c5a33acd",
   "metadata": {},
   "source": [
    "#### adding a column"
   ]
  },
  {
   "cell_type": "code",
   "execution_count": 92,
   "id": "b484309d",
   "metadata": {},
   "outputs": [
    {
     "name": "stdout",
     "output_type": "stream",
     "text": [
      "Query executed successfully\n",
      "(1, 'Anthony Rodrigues', datetime.date(2006, 2, 8), 17, 'M', 'AI', 8.0, 300000.0, 'BOSTON', None)\n",
      "(2, 'Mark Rodrigues', datetime.date(2004, 1, 26), 19, 'M', 'CS', 8.0, 268500.0, 'BOSTON', None)\n",
      "(3, 'Leslie Rodrigues', datetime.date(2002, 8, 29), 21, 'M', 'CS', 7.0, 255000.0, 'BOSTON', None)\n",
      "(4, 'Caleb Rodrigues', datetime.date(2013, 12, 28), 10, 'M', 'CS', 3.0, 195000.0, 'OHIO', None)\n",
      "(5, 'Valencio Rodrigues', datetime.date(2001, 4, 12), 22, 'M', 'B', 5.0, 307500.0, 'BOSTON', None)\n",
      "(7, 'Sharon Mascarenhas', datetime.date(2004, 8, 3), 19, 'F', 'CS', 4.0, 198000.0, 'VEGAS', None)\n",
      "(8, 'Steven Mascarenhas', datetime.date(2008, 7, 26), 15, 'M', 'CS', 2.0, 171000.0, 'OHIO', None)\n",
      "(9, 'Llyod Mascarenhas', datetime.date(2020, 11, 27), 3, 'M', 'CS', 2.0, 112500.0, 'WASHINGTON', None)\n",
      "(10, 'Roshaun Rodrigues', datetime.date(2003, 8, 19), 20, 'M', 'IT', 3.0, 238500.0, 'VEGAS', None)\n",
      "(11, 'Raju Singh', datetime.date(2006, 8, 2), 17, 'M', 'IT', 8.0, 120000.0, 'BOSTON', None)\n",
      "(12, 'Kaju Singh', datetime.date(2006, 8, 2), 17, 'M', 'IT', 8.0, 120000.0, 'BOSTON', None)\n"
     ]
    }
   ],
   "source": [
    "execute_query( 'alter table emp2 add pincode int')\n",
    "res = return_result( 'select * from emp2')\n",
    "for i in res:\n",
    "    print(i)"
   ]
  },
  {
   "cell_type": "markdown",
   "id": "b6ac808f",
   "metadata": {},
   "source": [
    "#### deleting a column"
   ]
  },
  {
   "cell_type": "code",
   "execution_count": 93,
   "id": "4fc7d6a4",
   "metadata": {},
   "outputs": [
    {
     "name": "stdout",
     "output_type": "stream",
     "text": [
      "Query executed successfully\n",
      "(1, 'Anthony Rodrigues', datetime.date(2006, 2, 8), 17, 'M', 'AI', 8.0, 300000.0, 'BOSTON')\n",
      "(2, 'Mark Rodrigues', datetime.date(2004, 1, 26), 19, 'M', 'CS', 8.0, 268500.0, 'BOSTON')\n",
      "(3, 'Leslie Rodrigues', datetime.date(2002, 8, 29), 21, 'M', 'CS', 7.0, 255000.0, 'BOSTON')\n",
      "(4, 'Caleb Rodrigues', datetime.date(2013, 12, 28), 10, 'M', 'CS', 3.0, 195000.0, 'OHIO')\n",
      "(5, 'Valencio Rodrigues', datetime.date(2001, 4, 12), 22, 'M', 'B', 5.0, 307500.0, 'BOSTON')\n",
      "(7, 'Sharon Mascarenhas', datetime.date(2004, 8, 3), 19, 'F', 'CS', 4.0, 198000.0, 'VEGAS')\n",
      "(8, 'Steven Mascarenhas', datetime.date(2008, 7, 26), 15, 'M', 'CS', 2.0, 171000.0, 'OHIO')\n",
      "(9, 'Llyod Mascarenhas', datetime.date(2020, 11, 27), 3, 'M', 'CS', 2.0, 112500.0, 'WASHINGTON')\n",
      "(10, 'Roshaun Rodrigues', datetime.date(2003, 8, 19), 20, 'M', 'IT', 3.0, 238500.0, 'VEGAS')\n",
      "(11, 'Raju Singh', datetime.date(2006, 8, 2), 17, 'M', 'IT', 8.0, 120000.0, 'BOSTON')\n",
      "(12, 'Kaju Singh', datetime.date(2006, 8, 2), 17, 'M', 'IT', 8.0, 120000.0, 'BOSTON')\n"
     ]
    }
   ],
   "source": [
    "execute_query( 'alter table emp2 drop column pincode')\n",
    "res = return_result( 'select * from emp2')\n",
    "for i in res:\n",
    "    print(i)"
   ]
  },
  {
   "cell_type": "markdown",
   "id": "0ee2db03",
   "metadata": {},
   "source": [
    "### insert into....duplicate key\n",
    "insert, update, and delete statements into a single SQL query"
   ]
  },
  {
   "cell_type": "code",
   "execution_count": 94,
   "id": "a6e799ca",
   "metadata": {},
   "outputs": [
    {
     "name": "stdout",
     "output_type": "stream",
     "text": [
      "Query executed successfully\n"
     ]
    }
   ],
   "source": [
    "#syntax-\n",
    "#      insert into name_of_the_updation_table (index_col, cols_to_update)\n",
    "#      values(replacing_value_index, replacing value)\n",
    "#      on duplicate key update/delete cols_to_update/delete = value_to_update   \n",
    "\n",
    "\n",
    "q = '''INSERT INTO emp2 (Employee_id, name) \n",
    "VALUES (11,'Raju Singh')\n",
    "ON DUPLICATE KEY UPDATE name = 'Happy Alhuwalhia';\n",
    "'''#We can even use delete statement there\n",
    "execute_query( q)"
   ]
  },
  {
   "cell_type": "code",
   "execution_count": 95,
   "id": "a0b091b9",
   "metadata": {},
   "outputs": [
    {
     "name": "stdout",
     "output_type": "stream",
     "text": [
      "(1, 'Anthony Rodrigues', datetime.date(2006, 2, 8), 17, 'M', 'AI', 8.0, 300000.0, 'BOSTON')\n",
      "(2, 'Mark Rodrigues', datetime.date(2004, 1, 26), 19, 'M', 'CS', 8.0, 268500.0, 'BOSTON')\n",
      "(3, 'Leslie Rodrigues', datetime.date(2002, 8, 29), 21, 'M', 'CS', 7.0, 255000.0, 'BOSTON')\n",
      "(4, 'Caleb Rodrigues', datetime.date(2013, 12, 28), 10, 'M', 'CS', 3.0, 195000.0, 'OHIO')\n",
      "(5, 'Valencio Rodrigues', datetime.date(2001, 4, 12), 22, 'M', 'B', 5.0, 307500.0, 'BOSTON')\n",
      "(7, 'Sharon Mascarenhas', datetime.date(2004, 8, 3), 19, 'F', 'CS', 4.0, 198000.0, 'VEGAS')\n",
      "(8, 'Steven Mascarenhas', datetime.date(2008, 7, 26), 15, 'M', 'CS', 2.0, 171000.0, 'OHIO')\n",
      "(9, 'Llyod Mascarenhas', datetime.date(2020, 11, 27), 3, 'M', 'CS', 2.0, 112500.0, 'WASHINGTON')\n",
      "(10, 'Roshaun Rodrigues', datetime.date(2003, 8, 19), 20, 'M', 'IT', 3.0, 238500.0, 'VEGAS')\n",
      "(11, 'Happy Alhuwalhia', datetime.date(2006, 8, 2), 17, 'M', 'IT', 8.0, 120000.0, 'BOSTON')\n",
      "(12, 'Kaju Singh', datetime.date(2006, 8, 2), 17, 'M', 'IT', 8.0, 120000.0, 'BOSTON')\n"
     ]
    }
   ],
   "source": [
    "res = return_result( 'select * from emp2')\n",
    "for i in res:\n",
    "    print(i)"
   ]
  },
  {
   "cell_type": "markdown",
   "id": "c3b2181a",
   "metadata": {},
   "source": [
    "### User defined functions\n",
    "---->1)<b>Scalar functions</b>: These types of functions return a single value, i.e float, int, varchar, datetime, etc.<br>\n",
    "---->2)<b>Table-Valued functions</b>: These functions return multiple values as well as strings/ varchar .<br>"
   ]
  },
  {
   "cell_type": "markdown",
   "id": "c9120d16",
   "metadata": {},
   "source": [
    "### scalar functions"
   ]
  },
  {
   "cell_type": "code",
   "execution_count": 96,
   "id": "9527222d",
   "metadata": {},
   "outputs": [
    {
     "name": "stdout",
     "output_type": "stream",
     "text": [
      "Error: 1304 (42000): FUNCTION calculate_revenue already exists\n"
     ]
    },
    {
     "data": {
      "text/plain": [
       "[(Decimal('310.00'),)]"
      ]
     },
     "execution_count": 96,
     "metadata": {},
     "output_type": "execute_result"
    }
   ],
   "source": [
    "#in any other ide we dont need to use delimiter but when working in mysql workbench we have to use it\n",
    "# execute_query(connection, 'drop function calculate_revenue')\n",
    "q1 ='''\n",
    "CREATE FUNCTION calculate_revenue(quantity INT, unit_price DECIMAL(10,2)) RETURNS DECIMAL(10,2)\n",
    "deterministic\n",
    "BEGIN\n",
    "    DECLARE total_price DECIMAL(10,2);\n",
    "    SET total_price = quantity * unit_price;\n",
    "    RETURN total_price;\n",
    "END ;\n",
    "'''\n",
    "\n",
    "execute_query( q1)\n",
    "return_result(' select calculate_revenue(20, 15.50);')"
   ]
  },
  {
   "cell_type": "code",
   "execution_count": 97,
   "id": "0a1c3925",
   "metadata": {},
   "outputs": [
    {
     "name": "stdout",
     "output_type": "stream",
     "text": [
      "Error: 1304 (42000): FUNCTION calculate_age already exists\n"
     ]
    },
    {
     "data": {
      "text/plain": [
       "[(30,)]"
      ]
     },
     "execution_count": 97,
     "metadata": {},
     "output_type": "execute_result"
    }
   ],
   "source": [
    "# execute_query(connection, 'drop function calculate_age')\n",
    "q2 = '''\n",
    "CREATE FUNCTION calculate_age(yob YEAR)\n",
    "RETURNS INT\n",
    "Deterministic\n",
    "BEGIN\n",
    "    DECLARE age INT;\n",
    "    SET age = YEAR(CURDATE()) - yob;\n",
    "    RETURN age;\n",
    "END ; '''\n",
    "    \n",
    "execute_query( q2)\n",
    "return_result( ' select calculate_age(1993);')"
   ]
  },
  {
   "cell_type": "code",
   "execution_count": 98,
   "id": "67061548",
   "metadata": {},
   "outputs": [
    {
     "name": "stdout",
     "output_type": "stream",
     "text": [
      "Query executed successfully\n",
      "Query executed successfully\n"
     ]
    },
    {
     "data": {
      "text/plain": [
       "[('45',)]"
      ]
     },
     "execution_count": 98,
     "metadata": {},
     "output_type": "execute_result"
    }
   ],
   "source": [
    "execute_query( 'drop function int_to_string')\n",
    "q3 = '''CREATE FUNCTION int_to_string(num INT) RETURNS VARCHAR(255)\n",
    "DETERMINISTIC\n",
    "BEGIN\n",
    "    DECLARE str VARCHAR(255);\n",
    "    SET str = CAST(num AS CHAR);\n",
    "    RETURN str;\n",
    "END;'''\n",
    "\n",
    "execute_query( q3)          \n",
    "return_result( 'select int_to_string(45);')"
   ]
  },
  {
   "cell_type": "markdown",
   "id": "b6ba8d9a",
   "metadata": {},
   "source": [
    "### Table-valued function"
   ]
  },
  {
   "cell_type": "code",
   "execution_count": 99,
   "id": "347d117d",
   "metadata": {},
   "outputs": [
    {
     "name": "stdout",
     "output_type": "stream",
     "text": [
      "Query executed successfully\n",
      "Query executed successfully\n"
     ]
    },
    {
     "data": {
      "text/plain": [
       "[('The birth year is 2000 and the present year is 2023 so the age is 23',)]"
      ]
     },
     "execution_count": 99,
     "metadata": {},
     "output_type": "execute_result"
    }
   ],
   "source": [
    "execute_query( 'drop function say_age')\n",
    "q_1 = '''\n",
    "CREATE FUNCTION say_age(yob YEAR)\n",
    "RETURNS varchar(255)\n",
    "Deterministic\n",
    "BEGIN\n",
    "    DECLARE age INT ;\n",
    "    declare str_age varchar(255);\n",
    "    declare str_yob varchar(255);\n",
    "    SET age = YEAR(CURDATE()) - yob;\n",
    "    set STR_AGE = CAST(age AS CHAR);\n",
    "    set str_yob = cast(yob as char);\n",
    "    RETURN concat('The birth year is ', yob, ' and the present year is ', year(curdate()),' so the age is ', age);\n",
    "END ; '''\n",
    "execute_query( q_1)\n",
    "return_result( 'select say_age(2000);')"
   ]
  },
  {
   "cell_type": "markdown",
   "id": "020bad40",
   "metadata": {},
   "source": [
    "## Temporary tables"
   ]
  },
  {
   "cell_type": "code",
   "execution_count": 100,
   "id": "7b26eba3",
   "metadata": {},
   "outputs": [
    {
     "name": "stdout",
     "output_type": "stream",
     "text": [
      "Query executed successfully\n",
      "Error: 1146 (42S02): Table 'mysql_python.temp_table' doesn't exist\n"
     ]
    }
   ],
   "source": [
    "q1 = '''CREATE temporary TABLE temp_table (\n",
    "  id INT,\n",
    "  first_name VARCHAR(50),\n",
    "  last_name VARCHAR(50),\n",
    "  email VARCHAR(100),\n",
    "  age INT\n",
    ");'''\n",
    "execute_query(q1)\n",
    "\n",
    "q2 = '''INSERT INTO temp_table (id, first_name, last_name, email, age) VALUES\n",
    "  (1, 'John', 'Doe', 'johndoe@hotmail.com', 30),\n",
    "  (2, 'Jane', 'Smith', 'janesmith@yahoo.com', 25),\n",
    "  (3, 'Bob', 'Johnson', 'bobjohnson@hotmail.com', 40),\n",
    "  (4, 'Emily', 'Davis', 'emilydavis@gamail.com', 22),\n",
    "  (5, 'David', 'Lee', 'davidlee@yahoo.com', 35),\n",
    "  (6, 'Alice', 'Brown', 'alicebrown@gmail.com', 28),\n",
    "  (7, 'Mark', 'Taylor', 'marktaylor@hotmail.com', 33),\n",
    "  (8, 'Sarah', 'Clark', 'sarahclark@yahoo.com', 29),\n",
    "  (9, 'Tom', 'Anderson', 'tomanderson@yahoo.com', 45),\n",
    "  (10, 'Olivia', 'Wilson', 'oliviawilson@hotmail.com', 27);'''\n",
    "\n",
    "execute_query(q2)"
   ]
  },
  {
   "cell_type": "markdown",
   "id": "9ad1f69c",
   "metadata": {},
   "source": [
    "### Case statements"
   ]
  },
  {
   "cell_type": "code",
   "execution_count": 101,
   "id": "f55bcd85",
   "metadata": {},
   "outputs": [
    {
     "name": "stdout",
     "output_type": "stream",
     "text": [
      "(1, 'Anthony Rodrigues', datetime.date(2006, 2, 8), 17, 'M', 'AI', 8.0, 250000.0, 'BOSTON', 'Senior')\n",
      "(2, 'Mark Rodrigues', datetime.date(2004, 1, 26), 19, 'M', 'CS', 8.0, 223750.0, 'BOSTON', 'Senior')\n",
      "(3, 'Leslie Rodrigues', datetime.date(2004, 8, 29), 21, 'M', 'CS', 7.0, 212500.0, 'BOSTON', 'Senior')\n",
      "(4, 'Caleb Rodrigues', datetime.date(2013, 12, 28), 10, 'M', 'CS', 3.0, 162500.0, 'OHIO', 'Junior')\n",
      "(5, 'Valencio Rodrigues', datetime.date(2001, 4, 12), 22, 'M', 'B', 5.0, 256250.0, 'BOSTON', 'Intermediate')\n",
      "(7, 'Sharon Mascarenhas', datetime.date(2004, 8, 3), 19, 'F', 'CS', 4.0, 165000.0, 'VEGAS', 'Junior')\n",
      "(8, 'Steven Mascarenhas', datetime.date(2008, 7, 26), 15, 'M', 'CS', 2.0, 142500.0, 'OHIO', 'Junior')\n",
      "(9, 'Llyod Mascarenhas', datetime.date(2020, 11, 27), 3, 'M', 'CS', 2.0, 93750.0, 'WASHINGTON', 'Junior')\n",
      "(10, 'Roshaun Rodrigues', datetime.date(2003, 8, 19), 20, 'M', 'IT', 3.0, 198750.0, 'VEGAS', 'Junior')\n",
      "(12, 'Salu Bhai', datetime.date(1999, 6, 25), 53, 'M', 'IT', 7.0, 71250.0, 'SEATTLE', 'Senior')\n",
      "(13, 'P town', datetime.date(2009, 6, 10), 24, 'M', 'AI', 5.0, 212500.0, 'VEGAS', 'Intermediate')\n",
      "(14, 'Rajesh', datetime.date(2013, 9, 18), 29, 'F', 'B', 8.0, 105000.0, 'SEATTLE', 'Senior')\n",
      "(15, 'Bimles', datetime.date(2006, 9, 18), 59, 'F', 'FD', 6.0, 73327.8, 'WASHINGTON', 'Intermediate')\n"
     ]
    }
   ],
   "source": [
    "q1 = '''select *, case when Experience <= 4 then 'Junior'\n",
    "when Experience > 4 and Experience <= 6 then 'Intermediate'\n",
    "else 'Senior' end as Position from employee_details'''\n",
    "\n",
    "res = return_result(q1)\n",
    "for i in res:\n",
    "    print(i)"
   ]
  },
  {
   "cell_type": "code",
   "execution_count": 102,
   "id": "ae188f47",
   "metadata": {},
   "outputs": [
    {
     "data": {
      "text/plain": [
       "[(1, 'web chatbot', 'recommendation_system', 'Software Engineer'),\n",
       " (2, 'web_backend', 'software updates', 'Software Engineer'),\n",
       " (3, 'web_design', 'updates', 'Software Engineer'),\n",
       " (4, 'web_design', 'additional tools', 'Software Engineer'),\n",
       " (5, 'Business analysis', 'Progress Ideas', 'Higher Roles'),\n",
       " (7, 'web_design', 'additional', 'Software Engineer'),\n",
       " (8, 'web_backend', 'software updates', 'Software Engineer'),\n",
       " (9, 'web_design', 'updates', 'Software Engineer'),\n",
       " (10, 'Hardware Malfunction', 'Debugging', 'Hardware Engineer'),\n",
       " (11, 'Hardware Malfunction', 'Debugging', 'Hardware Engineer'),\n",
       " (12, 'Hardware Malfunction', 'Debugging', 'Hardware Engineer'),\n",
       " (13, 'web chatbot', 'reccomendation_system', 'Software Engineer'),\n",
       " (14, 'Business analysis', 'Progress Ideas', 'Higher Roles')]"
      ]
     },
     "execution_count": 102,
     "metadata": {},
     "output_type": "execute_result"
    }
   ],
   "source": [
    "q1 = ''' select *, case when Applications_created like \"web%\" then \"Software Engineer\"\n",
    "when Applications_created like \"%Hardware%\" then \"Hardware Engineer\"\n",
    "else \"Higher Roles\" end as Role from employee_work '''\n",
    "\n",
    "return_result(q1)\n",
    "# [('emp2',), ('employee_details',), ('employee_work',), ('work_details',)]"
   ]
  },
  {
   "cell_type": "markdown",
   "id": "422a8216",
   "metadata": {},
   "source": [
    "## if function"
   ]
  },
  {
   "cell_type": "code",
   "execution_count": 103,
   "id": "d1f6d5c8",
   "metadata": {},
   "outputs": [
    {
     "data": {
      "text/plain": [
       "[(1, 'Anthony Rodrigues', 'BOSTON', '400067'),\n",
       " (2, 'Mark Rodrigues', 'BOSTON', '400067'),\n",
       " (3, 'Leslie Rodrigues', 'BOSTON', '400067'),\n",
       " (5, 'Valencio Rodrigues', 'BOSTON', '400067'),\n",
       " (4, 'Caleb Rodrigues', 'OHIO', '400068'),\n",
       " (7, 'Sharon Mascarenhas', 'VEGAS', '400068'),\n",
       " (8, 'Steven Mascarenhas', 'OHIO', '400068'),\n",
       " (9, 'Llyod Mascarenhas', 'WASHINGTON', '400068')]"
      ]
     },
     "execution_count": 103,
     "metadata": {},
     "output_type": "execute_result"
    }
   ],
   "source": [
    "return_result(\"select EmployeeId, Name, City, if(City = 'BOSTON','400067','400068')as Pincode from employee_details where Employeeid < 10 order by Pincode asc ;\") "
   ]
  },
  {
   "cell_type": "markdown",
   "id": "be96f35c",
   "metadata": {},
   "source": [
    "## Procedures"
   ]
  },
  {
   "cell_type": "code",
   "execution_count": 104,
   "id": "75922fee",
   "metadata": {},
   "outputs": [
    {
     "name": "stdout",
     "output_type": "stream",
     "text": [
      "Query executed successfully\n",
      "Query executed successfully\n",
      "Query executed successfully\n",
      "('John Doe', datetime.date(2010, 5, 15), 11, Decimal('50000.00'), 'New York', 'Sales', '123 Main St')\n",
      "('Jane Smith', datetime.date(2015, 8, 22), 6, Decimal('60000.00'), 'Los Angeles', 'Marketing', '456 Elm St')\n",
      "('Bob Johnson', datetime.date(2018, 1, 1), 3, Decimal('40000.00'), 'Chicago', 'Finance', '789 Oak St')\n",
      "('Alice Lee', datetime.date(2019, 4, 1), 2, Decimal('45000.00'), 'San Francisco', 'HR', '321 Maple Ave')\n",
      "('David Kim', datetime.date(2012, 11, 12), 9, Decimal('70000.00'), 'Seattle', 'Engineering', '567 Pine St')\n"
     ]
    }
   ],
   "source": [
    "execute_query('drop table if exists employee')\n",
    "q1 = '''CREATE TABLE employee (id INT NOT NULL,name VARCHAR(50),doj DATE,experience INT,salary DECIMAL(10,2),city VARCHAR(50),department VARCHAR(50),address VARCHAR(100),pincode VARCHAR(10),employee_type VARCHAR(50),PRIMARY KEY (id));'''\n",
    "execute_query(q1)\n",
    "q2 = ''' INSERT INTO employee (id, name, doj, experience, salary, city, department, address, pincode, employee_type)\n",
    "VALUES(1, 'John Doe', '2010-05-15', 11, 50000, 'New York', 'Sales', '123 Main St', '10001', 'Full-time'),(2, 'Jane Smith', '2015-08-22', 6, 60000, 'Los Angeles', 'Marketing', '456 Elm St', '90001', 'Full-time'),(3, 'Bob Johnson', '2018-01-01', 3, 40000, 'Chicago', 'Finance', '789 Oak St', '60601', 'Part-time'),(4, 'Alice Lee', '2019-04-01', 2, 45000, 'San Francisco', 'HR', '321 Maple Ave', '94101', 'Full-time'),(5, 'David Kim', '2012-11-12', 9, 70000, 'Seattle', 'Engineering', '567 Pine St', '98101', 'Full-time'),(6, 'Samantha Brown', '2017-02-01', 4, 55000, 'Boston', 'Operations', '901 Chestnut St', '02108', 'Full-time'),(7, 'Erica Chen', '2020-08-01', 1, 35000, 'Houston', 'Marketing', '234 Elm St', '77001', 'Part-time'),(8, 'Chris Martin', '2011-06-15', 10, 80000, 'San Diego', 'Engineering', '789 Oak St', '92101', 'Full-time'),(9, 'Peter Wilson', '2016-09-01', 5, 60000, 'Denver', 'Finance', '345 Maple Ave', '80202', 'Full-time'),(10, 'Emily Davis', '2021-01-01', 0, 40000, 'Chicago', 'Operations', '678 Chestnut St', '60601', 'Part-time'),(11, 'Robert Garcia', '2010-03-15', 11, 75000, 'Dallas', 'Engineering', '345 Pine St', '75201', 'Full-time'),(12, 'Laura Hernandez', '2016-07-01', 5, 55000, 'Austin', 'HR', '890 Oak St', '78701', 'Full-time'),(13, 'Daniel Kim', '2018-10-01', 3, 45000, 'San Francisco', 'Operations', '456 Maple Ave', '94101', 'Part-time'),(14, 'Jessica Chen', '2014-12-01', 7, 65000, 'Seattle', 'Engineering', '789 Chestnut St', '98101', 'Full-time'),(15, 'Michael Lee', '2017-05-01', 4, 50000, 'Boston', 'Finance', '123 Elm St', '02108', 'Full-time'),(16, 'Maria Rodriguez', '2013-06-01', 8, 60000, 'Miami', 'Marketing', '567 Oak St', '33101', 'Full-time'),(17, 'Carlos Gonzalez', '2019-09-01', 2, 40000, 'Los Angeles', 'Operations', '901 Maple Ave', '90001', 'Part-time'),(18, 'Sophia Nguyen', '2015-03-01', 6, 55000, 'Seattle', 'Finance', '234 Pine St', '98101', 'Full-time'),(19, 'James Brown', '2018-02-01', 3, 45000, 'New York', 'HR', '678 Elm St', '10001', 'Part-time'),(20, 'Megan Wilson', '2020-06-01', 1, 35000, 'San Francisco', 'Engineering', '345 Oak St', '94101', 'Full-time');\n",
    "'''\n",
    "execute_query(q2)\n",
    "res = return_result('select name, doj, experience, salary, city, department, address from employee limit 5')\n",
    "for i in res:\n",
    "    print(i)"
   ]
  },
  {
   "cell_type": "markdown",
   "id": "464b3749",
   "metadata": {},
   "source": [
    "### with parameter "
   ]
  },
  {
   "cell_type": "code",
   "execution_count": 105,
   "id": "1c440f0b",
   "metadata": {},
   "outputs": [
    {
     "name": "stdout",
     "output_type": "stream",
     "text": [
      "Query executed successfully\n",
      "Query executed successfully\n",
      "Error: Use multi=True when executing multiple statements\n",
      "Empty result\n"
     ]
    }
   ],
   "source": [
    "execute_query('drop procedure if exists P1')\n",
    "q1 = '''create procedure P1(in emp_type varchar(30),in emp_city varchar(30))\n",
    "begin \n",
    "select name, doj, experience, salary, city, department, address from employee where employee_type = emp_type and City != emp_city limit 3;\n",
    "end ; '''\n",
    "\n",
    "execute_query(q1)\n",
    "res = return_result('call P1(\"Full-time\", \"Boston\");')\n",
    "\n",
    "if res is not None :\n",
    "    for i in res :\n",
    "        print(res)\n",
    "else:\n",
    "    print('Empty result')"
   ]
  },
  {
   "cell_type": "markdown",
   "id": "8a5f4e77",
   "metadata": {},
   "source": [
    "### without parameter"
   ]
  },
  {
   "cell_type": "code",
   "execution_count": 106,
   "id": "945020e5",
   "metadata": {},
   "outputs": [
    {
     "name": "stdout",
     "output_type": "stream",
     "text": [
      "Query executed successfully\n",
      "Query executed successfully\n",
      "Error: Use multi=True when executing multiple statements\n",
      "Empty result\n"
     ]
    }
   ],
   "source": [
    "execute_query('drop procedure if exists P;')\n",
    "q1 = ''' create procedure P() \n",
    "begin \n",
    "select * from employee_details\n",
    "where year(D_O_J) between year(curdate())-10 and year(curdate());\n",
    "end ; '''\n",
    "\n",
    "execute_query(q1)\n",
    "res = return_result('call P()')\n",
    "\n",
    "if res is not None :\n",
    "    for i in res :\n",
    "        print(res)\n",
    "else:\n",
    "    print('Empty result')"
   ]
  },
  {
   "cell_type": "markdown",
   "id": "28abdccb",
   "metadata": {},
   "source": [
    "## Error handling using procedure"
   ]
  },
  {
   "cell_type": "code",
   "execution_count": 107,
   "id": "0d0fc312",
   "metadata": {},
   "outputs": [
    {
     "name": "stdout",
     "output_type": "stream",
     "text": [
      "Query executed successfully\n",
      "Query executed successfully\n",
      "Error: Use multi=True when executing multiple statements\n"
     ]
    }
   ],
   "source": [
    "execute_query('drop procedure if exists t;')\n",
    "q1 = '''create procedure t(in sal float)\n",
    "begin\n",
    "    declare exit handler for sqlexception\n",
    "    begin\n",
    "    get diagnostics condition 1 @sqlstate=RETURNED_SQLSTATE, @error_no = MYSQL_ERRNO, @text = MESSAGE_text;\n",
    "    select concat('error num : ', @error_no,' Error : ', @text)as Error_Message;\n",
    "    end;\n",
    "    select l from employee where salary > sal;\n",
    "end;'''\n",
    "\n",
    "execute_query(q1)\n",
    "return_result(\"call t(60000)\")"
   ]
  },
  {
   "cell_type": "markdown",
   "id": "9af9a576",
   "metadata": {},
   "source": [
    "## subquery"
   ]
  },
  {
   "cell_type": "code",
   "execution_count": 108,
   "id": "1f761539",
   "metadata": {},
   "outputs": [
    {
     "name": "stdout",
     "output_type": "stream",
     "text": [
      "(11, 'Robert Garcia', datetime.date(2010, 3, 15), 11, Decimal('75000.00'), 'Dallas', 'Engineering', '345 Pine St', '75201', 'Full-time')\n"
     ]
    }
   ],
   "source": [
    "res = return_result(\"select * from employee where Salary=  (select max(Salary) from employee where Salary < (select max(Salary) from employee))\")\n",
    "for i in res:\n",
    "    print(i)"
   ]
  },
  {
   "cell_type": "markdown",
   "id": "aab7e7d0",
   "metadata": {},
   "source": [
    "## duplicate table\n",
    "sntax : INSERT INTO table2 SELECT * FROM table1;"
   ]
  },
  {
   "cell_type": "markdown",
   "id": "c07f6b81",
   "metadata": {},
   "source": [
    "## triggers"
   ]
  },
  {
   "cell_type": "markdown",
   "id": "458a9919",
   "metadata": {},
   "source": [
    "### before insert "
   ]
  },
  {
   "cell_type": "code",
   "execution_count": 109,
   "id": "a30203a5",
   "metadata": {},
   "outputs": [
    {
     "name": "stdout",
     "output_type": "stream",
     "text": [
      "Query executed successfully\n",
      "Query executed successfully\n"
     ]
    }
   ],
   "source": [
    "execute_query('drop table if exists records;')\n",
    "execute_query('''create table records(id int not null primary key auto_increment,\n",
    "                     Name varchar(255), Department varchar(255));''') "
   ]
  },
  {
   "cell_type": "code",
   "execution_count": 110,
   "id": "abe9952d",
   "metadata": {},
   "outputs": [
    {
     "name": "stdout",
     "output_type": "stream",
     "text": [
      "Query executed successfully\n",
      "Query executed successfully\n"
     ]
    }
   ],
   "source": [
    "execute_query('drop trigger if exists t1')\n",
    "execute_query('''create trigger t1\n",
    "before insert on records\n",
    "for each row\n",
    "if new.Department not in ('CS','IT','AI') then set new.Department = 'Non-technical';\n",
    "end if;''')"
   ]
  },
  {
   "cell_type": "code",
   "execution_count": 111,
   "id": "54e57661",
   "metadata": {},
   "outputs": [
    {
     "name": "stdout",
     "output_type": "stream",
     "text": [
      "Query executed successfully\n"
     ]
    }
   ],
   "source": [
    "execute_query('''insert into records(Name, Department)\n",
    "values('Rajesh','CS'),('Robert','IT'),('Rizwan','AI'),('Rahul','DS'),('Rohanpreet','ML'),('Ramacharan','IT'),\n",
    "('Rakul','CS'),('Ram','AI'),('Roy','CS'),('Ravi','CS'),('Ravan','DS'),('Ronaldo','CS');''')"
   ]
  },
  {
   "cell_type": "code",
   "execution_count": 112,
   "id": "de3a6c35",
   "metadata": {},
   "outputs": [
    {
     "data": {
      "text/plain": [
       "[(1, 'Rajesh', 'CS'),\n",
       " (2, 'Robert', 'IT'),\n",
       " (3, 'Rizwan', 'AI'),\n",
       " (4, 'Rahul', 'Non-technical'),\n",
       " (5, 'Rohanpreet', 'Non-technical'),\n",
       " (6, 'Ramacharan', 'IT'),\n",
       " (7, 'Rakul', 'CS'),\n",
       " (8, 'Ram', 'AI'),\n",
       " (9, 'Roy', 'CS'),\n",
       " (10, 'Ravi', 'CS'),\n",
       " (11, 'Ravan', 'Non-technical'),\n",
       " (12, 'Ronaldo', 'CS')]"
      ]
     },
     "execution_count": 112,
     "metadata": {},
     "output_type": "execute_result"
    }
   ],
   "source": [
    "return_result('select * from records')"
   ]
  },
  {
   "cell_type": "markdown",
   "id": "9ec6e83b",
   "metadata": {},
   "source": [
    "### after insert"
   ]
  },
  {
   "cell_type": "code",
   "execution_count": 113,
   "id": "e0edd771",
   "metadata": {},
   "outputs": [
    {
     "name": "stdout",
     "output_type": "stream",
     "text": [
      "Query executed successfully\n",
      "Query executed successfully\n",
      "Query executed successfully\n",
      "Query executed successfully\n"
     ]
    }
   ],
   "source": [
    "execute_query('drop table if exists entries')\n",
    "\n",
    "execute_query('''create table entries(ID int primary key  auto_increment,\n",
    "Name varchar(20) not null,\n",
    "Department varchar(10),\n",
    "Experience float);''')\n",
    "\n",
    "execute_query('drop table if exists position_')\n",
    "\n",
    "execute_query('''create table position_(Id int primary key auto_increment ,\n",
    "Position varchar(30));''')"
   ]
  },
  {
   "cell_type": "code",
   "execution_count": 114,
   "id": "ee5d7af9",
   "metadata": {},
   "outputs": [
    {
     "name": "stdout",
     "output_type": "stream",
     "text": [
      "Query executed successfully\n",
      "Query executed successfully\n"
     ]
    }
   ],
   "source": [
    "execute_query(' drop trigger if exists t2')\n",
    "execute_query('''CREATE TRIGGER t2\n",
    "AFTER INSERT ON entries\n",
    "FOR EACH ROW \n",
    "IF new.Experience < 4 THEN\n",
    "    INSERT INTO position_(Position)\n",
    "    VALUES(\"Junior\");\n",
    "ELSEIF new.Experience BETWEEN 3 AND 6 THEN\n",
    "    INSERT INTO position_(Position)\n",
    "    VALUES(\"Intermediate\");\n",
    "ELSE\n",
    "    INSERT INTO position_(Position)\n",
    "    VALUES(\"Senior\");\n",
    "END IF;\n",
    "''')  "
   ]
  },
  {
   "cell_type": "code",
   "execution_count": 115,
   "id": "65cf4c95",
   "metadata": {},
   "outputs": [
    {
     "name": "stdout",
     "output_type": "stream",
     "text": [
      "Query executed successfully\n"
     ]
    }
   ],
   "source": [
    "execute_query('''insert into entries(Name, Department, Experience)\n",
    "values ('MikeHillyer','CS','4'),( 'JonStephens','DBM','7'),('Taniya','IT','5'),('Rahul','DS','3'),('Iqbal','AI','6'),\n",
    "('John','DS','8'),('Gurpreet','IT','6'),('Paulo','CS','7'),('Rosario','DBM','5'),('Kylian','AI','4'),('Peter','IT','5'),\n",
    "('Nurmagamedov','IT','2'),('Mcgregor','CS','9'),('Mark','CS',3)''')"
   ]
  },
  {
   "cell_type": "code",
   "execution_count": 116,
   "id": "3fea8a7d",
   "metadata": {},
   "outputs": [
    {
     "data": {
      "text/plain": [
       "[(1, 'Intermediate'),\n",
       " (2, 'Senior'),\n",
       " (3, 'Intermediate'),\n",
       " (4, 'Junior'),\n",
       " (5, 'Intermediate'),\n",
       " (6, 'Senior'),\n",
       " (7, 'Intermediate'),\n",
       " (8, 'Senior'),\n",
       " (9, 'Intermediate'),\n",
       " (10, 'Intermediate'),\n",
       " (11, 'Intermediate'),\n",
       " (12, 'Junior'),\n",
       " (13, 'Senior'),\n",
       " (14, 'Junior')]"
      ]
     },
     "execution_count": 116,
     "metadata": {},
     "output_type": "execute_result"
    }
   ],
   "source": [
    "return_result('select * from position_')"
   ]
  },
  {
   "cell_type": "code",
   "execution_count": null,
   "id": "76e95e9b",
   "metadata": {},
   "outputs": [],
   "source": []
  }
 ],
 "metadata": {
  "kernelspec": {
   "display_name": "Python 3 (ipykernel)",
   "language": "python",
   "name": "python3"
  },
  "language_info": {
   "codemirror_mode": {
    "name": "ipython",
    "version": 3
   },
   "file_extension": ".py",
   "mimetype": "text/x-python",
   "name": "python",
   "nbconvert_exporter": "python",
   "pygments_lexer": "ipython3",
   "version": "3.12.4"
  }
 },
 "nbformat": 4,
 "nbformat_minor": 5
}
